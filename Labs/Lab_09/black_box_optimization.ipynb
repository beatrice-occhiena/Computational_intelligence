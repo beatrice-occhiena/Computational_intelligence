{
 "cells": [
  {
   "cell_type": "markdown",
   "metadata": {},
   "source": [
    "# LAB9\n",
    "Write a local-search algorithm (eg. an EA) able to solve the Problem instances 1, 2, 5, and 10 on a 1000-loci genomes, using a minimum number of fitness calls. That's all."
   ]
  },
  {
   "cell_type": "markdown",
   "metadata": {},
   "source": [
    "## Black-box optimization\n",
    "In this lab, we will explore the use of local-search algorithms to solve **black-box optimization problems**. In this kind of problems, the details of the fitness function remain concealed to the algorithm, which can only evaluate candidate solutions by calling the function itself.\n",
    "\n",
    "> ❗ The algorithm must be able to probe the fitness landscape, and find a good solution, yet devoid of any information regarding the inner workings or mathematical properties of the function.\n",
    "\n"
   ]
  },
  {
   "cell_type": "markdown",
   "metadata": {},
   "source": [
    "### Abstract problem definition\n",
    "The provided code establishes the problem space through the `AbstractProblem` class, offering a framework for defining problem instances with varying genome length."
   ]
  },
  {
   "cell_type": "code",
   "execution_count": 2,
   "metadata": {},
   "outputs": [],
   "source": [
    "from random import choices\n",
    "import lab9_lib\n",
    "\n"
   ]
  },
  {
   "cell_type": "code",
   "execution_count": 12,
   "metadata": {},
   "outputs": [
    {
     "name": "stdout",
     "output_type": "stream",
     "text": [
      "00101010011010100101011111111110101100100100101011: 56.00%\n",
      "01110110000101010101110100000001100000001100001001: 38.00%\n",
      "00101011101111110001111101100100100000101110111011: 58.00%\n",
      "00111001110000101011011010011101101010100110011110: 54.00%\n",
      "11100001000000011010101010011000100011110000000100: 36.00%\n",
      "01110100110011011100100000111101110111011010011010: 56.00%\n",
      "00010011000110110010010010010110000010111011011111: 48.00%\n",
      "10011100010111101000010000000000010001101101111111: 46.00%\n",
      "11001010110001011111100011101100100101110101111101: 60.00%\n",
      "00000001100110010100000011110110101110001010111100: 44.00%\n",
      "10\n"
     ]
    }
   ],
   "source": [
    "fitness = lab9_lib.make_problem(1)\n",
    "for n in range(10):\n",
    "    ind = choices([0, 1], k=50)\n",
    "    print(f\"{''.join(str(g) for g in ind)}: {fitness(ind):.2%}\")\n",
    "\n",
    "print(fitness.calls)"
   ]
  },
  {
   "cell_type": "code",
   "execution_count": 10,
   "metadata": {},
   "outputs": [
    {
     "name": "stdout",
     "output_type": "stream",
     "text": [
      "1: 50.60%\n",
      "1\n",
      "2: 22.85%\n",
      "1\n",
      "5: 9.17%\n",
      "1\n",
      "10: 5.01%\n",
      "1\n"
     ]
    }
   ],
   "source": [
    "PROBLEM_INSTANCES = [1, 2, 5, 10]\n",
    "GENOME_LENGTH = 1000\n",
    "\n",
    "for problem_instance in PROBLEM_INSTANCES:\n",
    "    fitness = lab9_lib.make_problem(problem_instance)\n",
    "    ind = choices([0, 1], k=GENOME_LENGTH)\n",
    "    print(f\"{problem_instance}: {fitness(ind):.2%}\")\n",
    "    print(fitness.calls)"
   ]
  },
  {
   "cell_type": "code",
   "execution_count": null,
   "metadata": {},
   "outputs": [],
   "source": [
    "class Individual:\n",
    "    \n",
    "    def __init__(self, genome_length: int):\n",
    "        self.genome = choices([0, 1], k=genome_length)\n",
    "        self.fitness = None\n",
    "\n",
    "    def compute_fitness(self, fitness_function):\n",
    "        self.fitness = fitness_function(self.genome)\n",
    "\n",
    "    def __str__(self):\n",
    "        return f\"{''.join(str(g) for g in self.genome)}: {self.fitness:.2%}\"\n",
    "    \n",
    "    def __repr__(self):\n",
    "        return str(self)\n",
    "    \n",
    "    "
   ]
  },
  {
   "cell_type": "markdown",
   "metadata": {},
   "source": [
    "# Promoting diversity"
   ]
  }
 ],
 "metadata": {
  "kernelspec": {
   "display_name": "Python 3",
   "language": "python",
   "name": "python3"
  },
  "language_info": {
   "codemirror_mode": {
    "name": "ipython",
    "version": 3
   },
   "file_extension": ".py",
   "mimetype": "text/x-python",
   "name": "python",
   "nbconvert_exporter": "python",
   "pygments_lexer": "ipython3",
   "version": "3.11.6"
  }
 },
 "nbformat": 4,
 "nbformat_minor": 2
}
