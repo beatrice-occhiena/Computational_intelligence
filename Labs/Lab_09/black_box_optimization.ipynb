{
 "cells": [
  {
   "cell_type": "markdown",
   "metadata": {},
   "source": [
    "**Author:** Beatrice Occhiena s314971. See [`LICENSE`](https://github.com/beatrice-occhiena/Computational_intelligence/blob/main/LICENSE) for details.\n",
    "- institutional email: `S314971@studenti.polito.it`\n",
    "- personal email: `beatrice.occhiena@live.it`\n",
    "- github repository: [https://github.com/beatrice-occhiena/Computational_intelligence.git](https://github.com/beatrice-occhiena/Computational_intelligence.git)\n",
    "\n",
    "**Resources:** These notes are the result of additional research and analysis of the lecture material presented by Professor Giovanni Squillero for the Computational Intelligence course during the academic year 2023-2024 @ Politecnico di Torino. They are intended to be my attempt to make a personal contribution and to rework the topics covered in the following resources.\n",
    "- [https://github.com/squillero/computational-intelligence](https://github.com/squillero/computational-intelligence)\n",
    "- Stuart Russel, Peter Norvig, *Artificial Intelligence: A Modern Approach* [3th edition]\n",
    "- Sean Luke, *Essentials of Metaheuristics* [2nd edition]\n",
    "\n",
    ".\n",
    "\n",
    "."
   ]
  },
  {
   "cell_type": "markdown",
   "metadata": {},
   "source": [
    "# LAB9\n",
    "Write a local-search algorithm (eg. an EA) able to solve the Problem instances 1, 2, 5, and 10 on a 1000-loci genomes, using a minimum number of fitness calls. That's all."
   ]
  },
  {
   "cell_type": "markdown",
   "metadata": {},
   "source": [
    "## Black-box optimization\n",
    "In this lab, we will explore the use of local-search algorithms to solve **black-box optimization problems**. In this kind of problems, the details of the fitness function remain concealed to the algorithm, which can only evaluate candidate solutions by calling the function itself.\n",
    "\n",
    "> ❗ The algorithm must be able to probe the fitness landscape, and find a good solution, yet devoid of any information regarding the inner workings or mathematical properties of the function.\n",
    "\n"
   ]
  },
  {
   "cell_type": "markdown",
   "metadata": {},
   "source": [
    "### Abstract problem definition\n",
    "The provided code in [lab9_lib.py](https://github.com/beatrice-occhiena/Computational_intelligence/blob/main/Labs/Lab_09/lab9_lib.py) establishes the problem space through the `AbstractProblem` class, offering a framework for defining problem instances with varying genome length."
   ]
  },
  {
   "cell_type": "code",
   "execution_count": 1,
   "metadata": {},
   "outputs": [],
   "source": [
    "from random import choices, random\n",
    "import lab9_lib as abstract_problem\n",
    "import matplotlib.pyplot as plt"
   ]
  },
  {
   "cell_type": "code",
   "execution_count": 71,
   "metadata": {},
   "outputs": [
    {
     "name": "stdout",
     "output_type": "stream",
     "text": [
      "11001010011001110110111101000111101111011000110110: 9.11%\n",
      "00010001101110010111111000111110010111000100010101: 9.33%\n",
      "11000010000111000111000101010000100011011111010001: 29.56%\n",
      "10100011001111010111110010000010110011111101111011: 9.33%\n",
      "10100000101001100000001000010111110001011110011110: 15.36%\n",
      "00110110110001010100110101110100011101100100100011: 15.33%\n",
      "00111001101100101001010100111000110010100101101011: 23.34%\n",
      "10011110011010111000010010111001101010001101100001: 9.13%\n",
      "10000110001111101001111111010000001101110101010100: 7.33%\n",
      "11000011000111011010000001010100000010101000110100: 17.56%\n",
      "10\n"
     ]
    }
   ],
   "source": [
    "fitness = abstract_problem.make_problem(10)\n",
    "for n in range(10):\n",
    "    ind = choices([0, 1], k=50)\n",
    "    print(f\"{''.join(str(g) for g in ind)}: {fitness(ind):.2%}\")\n",
    "\n",
    "print(fitness.calls)"
   ]
  },
  {
   "cell_type": "code",
   "execution_count": 31,
   "metadata": {},
   "outputs": [],
   "source": [
    "class Individual:\n",
    "    \n",
    "    def __init__(self, num_loci: int):\n",
    "        self.num_loci = num_loci\n",
    "        self.genome = choices([0, 1], k=num_loci)\n",
    "        self.fitness = None\n",
    "\n",
    "    def __str__(self):\n",
    "        return f\"Fitness: {self.fitness:.2%}\"\n",
    "    \n",
    "    def __repr__(self):\n",
    "        return str(self)\n",
    "    \n",
    "    def show(self):\n",
    "        \"\"\"Show the genome as a grayscale image and print the fitness.\"\"\"\n",
    "        plt.figure(figsize=(20, 20))\n",
    "        plt.imshow([self.genome], cmap=\"Greys\", aspect=10)\n",
    "        plt.yticks([])\n",
    "        plt.xticks([i*100 for i in range(self.num_loci//100+1)])\n",
    "        plt.title(f\"Fitness: {self.fitness:.2%}\")\n",
    "        plt.show()\n",
    "\n",
    "    def compute_fitness(self, fitness_function):\n",
    "        self.fitness = fitness_function(self.genome)\n",
    "\n",
    "    \n",
    "    "
   ]
  },
  {
   "cell_type": "code",
   "execution_count": 69,
   "metadata": {},
   "outputs": [
    {
     "data": {
      "image/png": "[encoded data removed]",
      "text/plain": [
       "<Figure size 2000x2000 with 1 Axes>"
      ]
     },
     "metadata": {},
     "output_type": "display_data"
    },
    {
     "name": "stdout",
     "output_type": "stream",
     "text": [
      "0.485\n"
     ]
    }
   ],
   "source": [
    "ind = Individual(1000, abstract_problem.make_problem(1))\n",
    "ind.show()\n",
    "print(ind.fitness)"
   ]
  },
  {
   "cell_type": "code",
   "execution_count": 45,
   "metadata": {},
   "outputs": [],
   "source": [
    "def make_population(pop_size: int, num_loci: int, fitness_function):\n",
    "\n",
    "    \"\"\"Make a population of individuals with unique genomes.\"\"\"\n",
    "    population = []     # list of individuals\n",
    "    hash_table = {}     # hash table to keep track of unique individuals\n",
    "\n",
    "    while len(population) < pop_size:\n",
    "        # 1. Generate a new random individual\n",
    "        ind = Individual(num_loci)\n",
    "        \n",
    "        # 2. Only if its genome is unique\n",
    "        if tuple(ind.genome) not in hash_table:\n",
    "            # 2.1 Add the individual to the population\n",
    "            population.append(ind)\n",
    "            # 2.2 Compute the fitness of the individual\n",
    "            ind.compute_fitness(fitness_function)\n",
    "            # 2.3 Add the genome to the hash table\n",
    "            hash_table[tuple(ind.genome)] = ind.fitness\n",
    "    \n",
    "    return population, hash_table\n",
    "\n",
    "\n",
    "def find_best(population: list):\n",
    "    \"\"\"Find the individual with the highest fitness.\"\"\"\n",
    "    return max(population, key=lambda ind: ind.fitness)\n",
    "\n",
    "def find_worst(population: list):\n",
    "    \"\"\"Find the individual with the lowest fitness.\"\"\"\n",
    "    return min(population, key=lambda ind: ind.fitness)"
   ]
  },
  {
   "cell_type": "code",
   "execution_count": null,
   "metadata": {},
   "outputs": [],
   "source": []
  },
  {
   "cell_type": "code",
   "execution_count": null,
   "metadata": {},
   "outputs": [],
   "source": [
    "def uniform_xover(parent1: Individual, parent2: Individual):\n",
    "    \"\"\"Perform uniform crossover on two parents.\"\"\"\n",
    "    "
   ]
  },
  {
   "cell_type": "code",
   "execution_count": null,
   "metadata": {},
   "outputs": [],
   "source": [
    "def mutate_gene(ind: Individual, tested_individuals: dict, num_genes: int):\n",
    "\n",
    "  \"\"\"\n",
    "    Mutate all the loci of an individual's gene to create a new individual.\n",
    "    - The mutation rate is based on the fitness of the individual.\n",
    "  \"\"\"\n",
    "\n",
    "  # 0. Compute the mutation rate based on the fitness of the individual\n",
    "  mutation_rate = 1 - ind.fitness\n",
    " \n",
    "  # 1. Select the gene to mutate\n",
    "  gene = random.randint(0, num_genes-1)\n",
    "  gene_len = ind.num_loci // num_genes\n",
    "\n",
    "  # 2. For each locus in the gene\n",
    "  for i in range(gene*gene_len, (gene+1)*gene_len):\n",
    "    # 2.1. Mutate the locus with the given mutation rate\n",
    "    if random() < mutation_rate:\n",
    "      ind.genome[i] = 1 - ind.genome[i]\n",
    "  \n",
    "  # 3. Set the fitness of the individual\n",
    "  if tuple(ind.genome) not in tested_individuals:\n",
    "    ind.compute_fitness(fitness)\n",
    "    tested_individuals[tuple(ind.genome)] = ind.fitness\n",
    "  else:\n",
    "    ind.fitness = tested_individuals[tuple(ind.genome)]\n",
    "\n",
    "def mutate_locus(ind: Individual, tested_individuals: dict):\n",
    "  \"\"\"\n",
    "    Mutate a single locus in a gene of an individual's genome to create a new individual.\n",
    "    - The mutation rate is based on the fitness of the individual.\n",
    "  \"\"\"\n",
    "\n",
    "  # 0. Compute the mutation rate based on the fitness of the individual\n",
    "  mutation_rate = 1 - ind.fitness\n",
    " \n",
    "  # 1. Select the locus to mutate\n",
    "  locus = random.randint(0, ind.num_loci-1)\n",
    "\n",
    "  # 2. Mutate the locus with the given mutation rate\n",
    "  if random() < mutation_rate:\n",
    "    ind.genome[locus] = 1 - ind.genome[locus]\n",
    "  \n",
    "  # 3. Set the fitness of the individual\n",
    "  if tuple(ind.genome) not in tested_individuals:\n",
    "    ind.compute_fitness(fitness)\n",
    "    tested_individuals[tuple(ind.genome)] = ind.fitness\n",
    "  else:\n",
    "    ind.fitness = tested_individuals[tuple(ind.genome)]"
   ]
  },
  {
   "cell_type": "code",
   "execution_count": 43,
   "metadata": {},
   "outputs": [],
   "source": [
    "PROBLEM_INSTANCES = [1, 2, 5, 10]\n",
    "NUM_LOCI = 1000\n",
    "\n",
    "POPULATION_SIZE = 100\n",
    "OFFSPRING_SIZE = 50\n",
    "NUM_GENERATIONS = 100\n"
   ]
  },
  {
   "cell_type": "markdown",
   "metadata": {},
   "source": [
    "# Promoting diversity"
   ]
  },
  {
   "cell_type": "code",
   "execution_count": 68,
   "metadata": {},
   "outputs": [
    {
     "name": "stdout",
     "output_type": "stream",
     "text": [
      "Generation 0: Fitness: 17.36%\n",
      "Tested individuals: 100\n",
      "Fitness function calls: 100\n"
     ]
    }
   ],
   "source": [
    "PROBLEM_INSTANCE = 10\n",
    "fitness_function = abstract_problem.make_problem(PROBLEM_INSTANCE)\n",
    "\n",
    "# 0. Create the initial population\n",
    "individuals, tested_individuals = make_population(POPULATION_SIZE, NUM_LOCI, fitness_function)\n",
    "best_individual =  find_best(individuals)\n",
    "\n",
    "# 1. Run the evolutionary algorithm\n",
    "\n",
    "\n",
    "\n",
    "print(f\"Generation 0: {best_individual}\")\n",
    "print(f\"Tested individuals: {len(tested_individuals)}\")\n",
    "print(f\"Fitness function calls: {fitness_function.calls}\")"
   ]
  }
 ],
 "metadata": {
  "kernelspec": {
   "display_name": "Python 3",
   "language": "python",
   "name": "python3"
  },
  "language_info": {
   "codemirror_mode": {
    "name": "ipython",
    "version": 3
   },
   "file_extension": ".py",
   "mimetype": "text/x-python",
   "name": "python",
   "nbconvert_exporter": "python",
   "pygments_lexer": "ipython3",
   "version": "3.11.6"
  }
 },
 "nbformat": 4,
 "nbformat_minor": 2
}
