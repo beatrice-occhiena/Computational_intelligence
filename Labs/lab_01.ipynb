{
 "cells": [
  {
   "cell_type": "markdown",
   "metadata": {},
   "source": [
    "Copyright **`(c)`** Beatrice Occhiena s314971. See [`LICENSE`](https://github.com/beatrice-occhiena/Computational_intelligence/blob/main/LICENSE) for details."
   ]
  },
  {
   "cell_type": "markdown",
   "metadata": {},
   "source": [
    "# LAB 01 - Set Covering"
   ]
  },
  {
   "cell_type": "markdown",
   "metadata": {},
   "source": [
    "## Introduction\n",
    "---"
   ]
  },
  {
   "cell_type": "markdown",
   "metadata": {},
   "source": [
    "### Problem Statement\n",
    "The Set Covering Problem is a classical optimization problem in computer science and mathematics. It can be stated as follows:\n",
    "\n",
    "> Given a set of elements $U = \\{1, 2, ..., n\\}$, and a collection $S_1, S_2, ..., S_m$ of subsets of $U$ such that $\\bigcup_{i=1}^m S_i = U$, find the smallest sub-collection of $S_i$ whose union equals $U$. \n",
    "\n",
    "INPUT\n",
    "- A finite universe $U$ of n elements\n",
    "- A collection of subsets $S_i$ of $U$\n",
    "\n",
    "OUTPUT: A sub-collection of $S_i$ whose union equals $U$\n",
    "\n",
    "OBJECTIVE: Minimize the number of sets in the sub-collection"
   ]
  },
  {
   "cell_type": "markdown",
   "metadata": {},
   "source": [
    "### Project Objectives\n",
    "\n",
    "**1 - Implementation of Search Algorithms**\n",
    "\n",
    "The aim of this project is to implement a set of search algorithms to efficiently solve the Set Covering Problem. We are going to explore the differences between the following algorithms in terms of performance and quality of the solution.\n",
    "- Depth-First Search\n",
    "- Breadth-First Search\n",
    "- Best-First Search (Greedy)\n",
    "- A* Search\n",
    "\n",
    "**2 - Integration of Heuristic Function (H)**\n",
    "\n",
    "Focusing on the A* search algorithm, we will employ a heuristic function (H) to guide the search process. The heuristic function estimates the distance from the current state to the goal state. \n",
    "To be sure to find the optimal solution, the heuristic function must be:\n",
    "- Admissible: It never overestimates the cost of reaching the goal, so that $H(n) \\leq H^*(n)$\n",
    "- Consistent: It satisfies the triangle inequality, so that $H(n) \\leq c(n, a, n') + H(n')$\n",
    "\n",
    "In this project, we will explore different heuristics for the Set Covering Problem and compare their performances in terms of:\n",
    "- Number of nodes expanded\n",
    "- Number of nodes generated\n",
    "- Quality of the solution\n",
    "\n",
    "\n",
    "**3 - Special Sets Consideration**\n",
    "\n",
    "In practice, some subsets might have unique characteristics or properties. We will investigate how to handle \"special sets\" within the context of the Set Covering Problem to improve the efficiency of the search.\n",
    "\n",
    "**4 - Optimizing Set Order**\n",
    "\n",
    "The order in which sets are selected can impact the efficiency of the solution. We will analyze strategies for optimizing the order in which subsets are considered to achieve more efficient and quicker solutions.\n"
   ]
  },
  {
   "cell_type": "markdown",
   "metadata": {},
   "source": [
    "## Code Implementation\n",
    "---"
   ]
  },
  {
   "cell_type": "markdown",
   "metadata": {},
   "source": [
    "### Imported libraries"
   ]
  },
  {
   "cell_type": "code",
   "execution_count": 3,
   "metadata": {},
   "outputs": [],
   "source": [
    "import numpy as np\n",
    "from collections import namedtuple\n",
    "import matplotlib.pyplot as plt\n"
   ]
  },
  {
   "cell_type": "markdown",
   "metadata": {},
   "source": [
    "### Problem initialization\n",
    "First of all, we need to define the `UNIVERSE_SIZE` and the `NUMBER_OF_SETS`. Each set is represented by a vector of binary values, where 1 means that the element is present in the set, 0 means that the element is not present in the set. We can control the `DENSITY` of the sets by adjusting the probability of 1s in the vector."
   ]
  },
  {
   "cell_type": "code",
   "execution_count": 54,
   "metadata": {},
   "outputs": [
    {
     "data": {
      "image/png": "[encoded data removed]",
      "text/plain": [
       "<Figure size 1000x600 with 1 Axes>"
      ]
     },
     "metadata": {},
     "output_type": "display_data"
    }
   ],
   "source": [
    "UNIVERSE_SIZE = 20\n",
    "NUMBER_OF_SETS = 50\n",
    "DENSITY = 0.3\n",
    "\n",
    "\"\"\"\n",
    "  SETS GENERATION\n",
    "  Boolean array of shape (NUMBER_OF_SETS, UNIVERSE_SIZE) \n",
    "  where sets[i, j] is True if the j-th element of the universe is in the i-th set.\n",
    "\"\"\"\n",
    "sets = np.random.rand(NUMBER_OF_SETS, UNIVERSE_SIZE) < DENSITY\n",
    "\n",
    "\"\"\"\n",
    "  SETS VISUALIZATION\n",
    "  Each set is represented by a row of the matrix.\n",
    "  The elements of the universe are represented by the columns of the matrix.\n",
    "\"\"\"\n",
    "plt.figure(figsize=(10, 6))\n",
    "im = plt.imshow(sets, cmap='RdPu', aspect='auto')\n",
    "plt.title(\"Generated Sets\")\n",
    "plt.xlabel(\"Universe Elements\")\n",
    "plt.xticks(np.arange(UNIVERSE_SIZE))\n",
    "plt.ylabel(\"Sets\")\n",
    "plt.show()\n",
    "\n",
    "\"\"\"\n",
    "  PROBLEM FEASIBILITY CHECK\n",
    "  Check if the sets cover the universe\n",
    "  i.e. if the sum of the sets is greater than 0 for all elements of the universe.\n",
    "\"\"\"\n",
    "assert np.all(np.sum(sets, axis=0) > 0)\n"
   ]
  },
  {
   "cell_type": "markdown",
   "metadata": {},
   "source": []
  },
  {
   "cell_type": "code",
   "execution_count": null,
   "metadata": {},
   "outputs": [],
   "source": []
  }
 ],
 "metadata": {
  "kernelspec": {
   "display_name": "my_venv",
   "language": "python",
   "name": "python3"
  },
  "language_info": {
   "codemirror_mode": {
    "name": "ipython",
    "version": 3
   },
   "file_extension": ".py",
   "mimetype": "text/x-python",
   "name": "python",
   "nbconvert_exporter": "python",
   "pygments_lexer": "ipython3",
   "version": "3.11.6"
  }
 },
 "nbformat": 4,
 "nbformat_minor": 2
}
