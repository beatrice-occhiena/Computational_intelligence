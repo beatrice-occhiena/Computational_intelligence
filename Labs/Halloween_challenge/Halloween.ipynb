{
 "cells": [
  {
   "cell_type": "markdown",
   "metadata": {},
   "source": [
    "**Author:** Beatrice Occhiena s314971. See [`LICENSE`](https://github.com/beatrice-occhiena/Computational_intelligence/blob/main/LICENSE) for details.\n",
    "- institutional email: `S314971@studenti.polito.it`\n",
    "- personal email: `beatrice.occhiena@live.it`\n",
    "- github repository: [https://github.com/beatrice-occhiena/Computational_intelligence.git](https://github.com/beatrice-occhiena/Computational_intelligence.git)\n",
    "\n",
    "**Resources:** These notes are the result of additional research and analysis of the lecture material presented by Professor Giovanni Squillero for the Computational Intelligence course during the academic year 2023-2024 @ Politecnico di Torino. They are intended to be my attempt to make a personal contribution and to rework the topics covered in the following resources.\n",
    "- [https://github.com/squillero/computational-intelligence](https://github.com/squillero/computational-intelligence)\n",
    "- Stuart Russel, Peter Norvig, *Artificial Intelligence: A Modern Approach* [3th edition]"
   ]
  },
  {
   "cell_type": "markdown",
   "metadata": {},
   "source": [
    "# Halloween Challenge"
   ]
  },
  {
   "cell_type": "markdown",
   "metadata": {},
   "source": [
    "The aim of this project is to solve the Set-covering problem trying different Single-state optimization algorithms.\n",
    "\n",
    "Find the best solution with the **fewest calls to the fitness functions** for:\n",
    "- `num_points = [100, 1_000, 5_000]`\n",
    "- `num_sets = num_points`\n",
    "- `density = [.3, .7]`\n"
   ]
  },
  {
   "cell_type": "code",
   "execution_count": 43,
   "metadata": {},
   "outputs": [],
   "source": [
    "from itertools import product\n",
    "from random import random, randint, shuffle, seed\n",
    "import numpy as np\n",
    "from scipy import sparse\n",
    "import math"
   ]
  },
  {
   "cell_type": "markdown",
   "metadata": {},
   "source": [
    "## Problem instances\n",
    "First of all, we need to define the `UNIVERSE_SIZE` and the `NUMBER_OF_SETS`. Each set is represented by a vector of binary values, where 1 means that the element is present in the set, 0 means that the element is not present in the set. We can control the `DENSITY` of the sets by adjusting the probability of 1s in the vector."
   ]
  },
  {
   "cell_type": "code",
   "execution_count": 30,
   "metadata": {},
   "outputs": [],
   "source": [
    "def make_set_covering_problem(num_points, num_sets, density):\n",
    "    \"\"\"Returns a sparse array where rows are sets and columns are the covered items\"\"\"\n",
    "    seed(num_points*2654435761+num_sets+density)\n",
    "    sets = sparse.lil_array((num_sets, num_points), dtype=bool)\n",
    "    for s, p in product(range(num_sets), range(num_points)):\n",
    "        if random() < density:\n",
    "            sets[s, p] = True\n",
    "    for p in range(num_points):\n",
    "        sets[randint(0, num_sets-1), p] = True\n",
    "    return np.array(sets.toarray())"
   ]
  },
  {
   "cell_type": "code",
   "execution_count": 31,
   "metadata": {},
   "outputs": [],
   "source": [
    "num_points = [100, 1000, 5000]\n",
    "num_sets = num_points\n",
    "density = [.3, .7]"
   ]
  },
  {
   "cell_type": "markdown",
   "metadata": {},
   "source": [
    "## Service functions\n",
    "We need to define some service functions to:\n",
    "- evaluate the quality of a solution\n",
    "- mutate a solution\n",
    "- check if a solution is feasible"
   ]
  },
  {
   "cell_type": "code",
   "execution_count": 32,
   "metadata": {},
   "outputs": [],
   "source": [
    "def fitness(state, sets):\n",
    "    \"\"\"\n",
    "    OB: Maximise the number of covered points, minimise the cost, minimise the overlap\n",
    "    \"\"\"\n",
    "    cost = np.sum(state)\n",
    "    selected_sets = sets[state == 1]\n",
    "    overlap = np.sum(np.sum(selected_sets, axis=0) > 1)\n",
    "    universe_coverage = np.sum(np.sum(selected_sets, axis=0) > 0)\n",
    "\n",
    "    return universe_coverage, -cost, -overlap\n",
    "\n",
    "def tweak(state):\n",
    "    \"\"\"\n",
    "    OB: Flip a random bit\n",
    "    \"\"\"\n",
    "    new_state = state.copy()\n",
    "    i = randint(0, len(state)-1)\n",
    "    new_state[i] = not state[i]\n",
    "    return new_state\n",
    "\n",
    "def is_valid(state, sets):\n",
    "    \"\"\"\n",
    "    OB: All points are covered by at least one set\n",
    "    \"\"\"\n",
    "    selected_sets = sets[state == 1]\n",
    "    return np.sum(np.sum(selected_sets, axis=0) > 0) == len(state)"
   ]
  },
  {
   "cell_type": "markdown",
   "metadata": {},
   "source": [
    "## Hill Climbing"
   ]
  },
  {
   "cell_type": "markdown",
   "metadata": {},
   "source": [
    "### Random Mutation Hill Climbing\n",
    "The first algorithm we are going to implement is the Random Mutation Hill Climbing. The algorithm is very simple: we start from a random solution and we try to improve it by randomly mutating it. If the new solution is better than the previous one, we keep it, otherwise we discard it."
   ]
  },
  {
   "cell_type": "code",
   "execution_count": 33,
   "metadata": {},
   "outputs": [],
   "source": [
    "def RMHC(initial_state, sets, max_iterations):\n",
    "    \"\"\"\n",
    "    OB: Small, random, local changes to the state\n",
    "    \"\"\"\n",
    "    state = initial_state\n",
    "    best_fitness = fitness(state, sets)\n",
    "    calling_fitness = 1\n",
    "\n",
    "    # Keep looping until we reach the maximum number of iterations\n",
    "    for i in range(max_iterations):\n",
    "        new_state = tweak(state)\n",
    "        new_fitness = fitness(new_state, sets)\n",
    "        calling_fitness += 1\n",
    "        if new_fitness > best_fitness:\n",
    "            state = new_state\n",
    "            best_fitness = new_fitness\n",
    "\n",
    "        # Stop if we have a valid solution\n",
    "        if is_valid(state, sets):\n",
    "            break\n",
    "\n",
    "    return state, best_fitness, calling_fitness"
   ]
  },
  {
   "cell_type": "code",
   "execution_count": 35,
   "metadata": {},
   "outputs": [
    {
     "name": "stdout",
     "output_type": "stream",
     "text": [
      "Random Mutation Hill Climbing\n",
      "OB: Small, random, local changes to the state\n",
      "----------------------------------------------\n",
      "n: 100, d: 0.3, best_fitness: (100, -11, -93), calling_fitness: 12\n",
      "n: 100, d: 0.7, best_fitness: (100, -4, -93), calling_fitness: 5\n",
      "n: 1000, d: 0.3, best_fitness: (1000, -19, -989), calling_fitness: 23\n",
      "n: 1000, d: 0.7, best_fitness: (1000, -6, -988), calling_fitness: 7\n",
      "n: 5000, d: 0.3, best_fitness: (5000, -22, -4969), calling_fitness: 25\n",
      "n: 5000, d: 0.7, best_fitness: (5000, -8, -4998), calling_fitness: 10\n"
     ]
    }
   ],
   "source": [
    "\n",
    "print(\"Random Mutation Hill Climbing\")\n",
    "print(\"OB: Small, random, local changes to the state\")\n",
    "print(\"----------------------------------------------\")\n",
    "for n, d in product(num_points, density):\n",
    "  sets = make_set_covering_problem(n, n, d)\n",
    "  initial_solution = np.zeros(n, dtype=bool)\n",
    "  max_iterations = 1000\n",
    "  best_solution, best_fitness, calling_fitness = RMHC(initial_solution, sets, max_iterations)\n",
    "  print(f\"n: {n}, d: {d}, best_fitness: {best_fitness}, calling_fitness: {calling_fitness}\")"
   ]
  },
  {
   "cell_type": "markdown",
   "metadata": {},
   "source": [
    "### Steepest Ascent Hill Climbing\n",
    "We can make the algorithm more efficient by implementing the Steepest Ascent Hill Climbing. In this case, we try to improve the solution by creating n “tweaks” to a candidate solution\n",
    "all at one time, and then possibly adopt the best one. In this way, we are sampling all around the original candidate solution, i.e. sampling the gradient and marching straight up it."
   ]
  },
  {
   "cell_type": "code",
   "execution_count": 37,
   "metadata": {},
   "outputs": [],
   "source": [
    "def SAHC(initial_state, sets, max_iterations, n_samples):\n",
    "  \"\"\"\n",
    "  OB: Adopting the best neighbor at each iteration\n",
    "  \"\"\"\n",
    "  state = initial_state\n",
    "  best_fitness = fitness(state, sets)\n",
    "  calling_fitness = 1\n",
    "\n",
    "  # Keep looping until we reach the maximum number of iterations\n",
    "  for i in range(max_iterations):\n",
    "\n",
    "    # Evaluate all the neighbors of the current solution\n",
    "    for sample in range(n_samples):\n",
    "      new_state = tweak(state)\n",
    "      new_fitness = fitness(new_state, sets)\n",
    "      calling_fitness += 1\n",
    "      if new_fitness > best_fitness:\n",
    "        neighbor_best_state = new_state\n",
    "        neighbor_best_fitness = new_fitness\n",
    "\n",
    "    # If the best neighbor is better than the current solution, move to it\n",
    "    if neighbor_best_fitness > best_fitness:\n",
    "      state = neighbor_best_state\n",
    "      best_fitness = neighbor_best_fitness\n",
    "\n",
    "    # Stop if we have a valid solution\n",
    "    if is_valid(state, sets):\n",
    "      break\n",
    "\n",
    "  return state, best_fitness, calling_fitness"
   ]
  },
  {
   "cell_type": "code",
   "execution_count": 38,
   "metadata": {},
   "outputs": [
    {
     "name": "stdout",
     "output_type": "stream",
     "text": [
      "Simulated Annealing Hill Climbing\n",
      "OB: Adopting the best neighbor at each iteration\n",
      "----------------------------------------------\n",
      "n: 100, d: 0.3, best_fitness: (100, -13, -92), calling_fitness: 151\n",
      "n: 100, d: 0.7, best_fitness: (100, -6, -98), calling_fitness: 61\n",
      "n: 1000, d: 0.3, best_fitness: (1000, -17, -983), calling_fitness: 171\n",
      "n: 1000, d: 0.7, best_fitness: (1000, -5, -969), calling_fitness: 51\n",
      "n: 5000, d: 0.3, best_fitness: (5000, -23, -4987), calling_fitness: 231\n",
      "n: 5000, d: 0.7, best_fitness: (5000, -8, -4996), calling_fitness: 81\n"
     ]
    }
   ],
   "source": [
    "print(\"Simulated Annealing Hill Climbing\")\n",
    "print(\"OB: Adopting the best neighbor at each iteration\")\n",
    "print(\"----------------------------------------------\")\n",
    "for n, d in product(num_points, density):\n",
    "  sets = make_set_covering_problem(n, n, d)\n",
    "  initial_solution = np.zeros(n, dtype=bool)\n",
    "  max_iterations = 1000\n",
    "  n_samples = 10\n",
    "  best_solution, best_fitness, calling_fitness = SAHC(initial_solution, sets, max_iterations, n_samples)\n",
    "  print(f\"n: {n}, d: {d}, best_fitness: {best_fitness}, calling_fitness: {calling_fitness}\")"
   ]
  },
  {
   "cell_type": "markdown",
   "metadata": {},
   "source": [
    "## Simulated Annealing\n",
    "Simulated Annealing is a probabilistic technique for approximating the global optimum of a given function. Specifically, it is a metaheuristic to approximate global optimization in a large search space for an optimization problem. It is often used when the search space is discrete (e.g., all tours that visit a given set of cities). For problems where finding an approximate global optimum is more important than finding a precise local optimum in a fixed amount of time, simulated annealing may be preferable to alternatives such as gradient ascent."
   ]
  },
  {
   "cell_type": "code",
   "execution_count": 58,
   "metadata": {},
   "outputs": [],
   "source": [
    "def SimulatedAnnealing(initial_state, sets, max_iterations, n_samples, initial_temperature, cooling_rate):\n",
    "\n",
    "    state = initial_state\n",
    "    best_fitness = fitness(state, sets)\n",
    "    calling_fitness = 1\n",
    "    temperature = initial_temperature\n",
    "\n",
    "    for iteration in range(max_iterations):\n",
    "        for sample in range(n_samples):\n",
    "            new_state = tweak(state)\n",
    "            new_fitness = fitness(new_state, sets)\n",
    "            calling_fitness += 1\n",
    "\n",
    "            # Calculate the difference between the new fitness and the old fitness\n",
    "            # new fitness is a tuple of universe_coverage, -cost, -overlap\n",
    "            new_f = new_fitness[0] + new_fitness[1] + new_fitness[2]\n",
    "            old_f = best_fitness[0] + best_fitness[1] + best_fitness[2]\n",
    "            fitness_difference = new_f - old_f\n",
    "\n",
    "            # Accept worse solution with a certain probability\n",
    "            if fitness_difference > 0 or np.random.rand() < math.exp(fitness_difference / temperature):\n",
    "                state = new_state\n",
    "                best_fitness = new_fitness\n",
    "\n",
    "        # Cool down the temperature\n",
    "        temperature *= cooling_rate\n",
    "\n",
    "        if is_valid(state, sets):\n",
    "            break\n",
    "\n",
    "    return state, best_fitness, calling_fitness"
   ]
  },
  {
   "cell_type": "code",
   "execution_count": 59,
   "metadata": {},
   "outputs": [
    {
     "name": "stdout",
     "output_type": "stream",
     "text": [
      "Simulated Annealing\n",
      "OB: Accept worse solution with a certain probability\n",
      "----------------------------------------------\n"
     ]
    },
    {
     "ename": "ValueError",
     "evalue": "The truth value of an array with more than one element is ambiguous. Use a.any() or a.all()",
     "output_type": "error",
     "traceback": [
      "\u001b[1;31m---------------------------------------------------------------------------\u001b[0m",
      "\u001b[1;31mValueError\u001b[0m                                Traceback (most recent call last)",
      "\u001b[1;32mc:\\Users\\bea-c\\OneDrive\\Desktop\\CI\\Personal_repo_CI\\Computational_intelligence\\Labs\\Halloween_challenge\\Halloween.ipynb Cell 19\u001b[0m line \u001b[0;36m1\n\u001b[0;32m      <a href='vscode-notebook-cell:/c%3A/Users/bea-c/OneDrive/Desktop/CI/Personal_repo_CI/Computational_intelligence/Labs/Halloween_challenge/Halloween.ipynb#X32sZmlsZQ%3D%3D?line=8'>9</a>\u001b[0m initial_temperature \u001b[39m=\u001b[39m \u001b[39m1\u001b[39m\n\u001b[0;32m     <a href='vscode-notebook-cell:/c%3A/Users/bea-c/OneDrive/Desktop/CI/Personal_repo_CI/Computational_intelligence/Labs/Halloween_challenge/Halloween.ipynb#X32sZmlsZQ%3D%3D?line=9'>10</a>\u001b[0m cooling_rate \u001b[39m=\u001b[39m \u001b[39m0.95\u001b[39m\n\u001b[1;32m---> <a href='vscode-notebook-cell:/c%3A/Users/bea-c/OneDrive/Desktop/CI/Personal_repo_CI/Computational_intelligence/Labs/Halloween_challenge/Halloween.ipynb#X32sZmlsZQ%3D%3D?line=10'>11</a>\u001b[0m best_solution, best_fitness, calling_fitness \u001b[39m=\u001b[39m SimulatedAnnealing(initial_solution, sets, max_iterations, n_samples, initial_temperature, cooling_rate)\n\u001b[0;32m     <a href='vscode-notebook-cell:/c%3A/Users/bea-c/OneDrive/Desktop/CI/Personal_repo_CI/Computational_intelligence/Labs/Halloween_challenge/Halloween.ipynb#X32sZmlsZQ%3D%3D?line=11'>12</a>\u001b[0m \u001b[39mprint\u001b[39m(\u001b[39mf\u001b[39m\u001b[39m\"\u001b[39m\u001b[39mn: \u001b[39m\u001b[39m{\u001b[39;00mn\u001b[39m}\u001b[39;00m\u001b[39m, d: \u001b[39m\u001b[39m{\u001b[39;00md\u001b[39m}\u001b[39;00m\u001b[39m, best_fitness: \u001b[39m\u001b[39m{\u001b[39;00mbest_fitness\u001b[39m}\u001b[39;00m\u001b[39m, calling_fitness: \u001b[39m\u001b[39m{\u001b[39;00mcalling_fitness\u001b[39m}\u001b[39;00m\u001b[39m\"\u001b[39m)\n",
      "\u001b[1;32mc:\\Users\\bea-c\\OneDrive\\Desktop\\CI\\Personal_repo_CI\\Computational_intelligence\\Labs\\Halloween_challenge\\Halloween.ipynb Cell 19\u001b[0m line \u001b[0;36m2\n\u001b[0;32m     <a href='vscode-notebook-cell:/c%3A/Users/bea-c/OneDrive/Desktop/CI/Personal_repo_CI/Computational_intelligence/Labs/Halloween_challenge/Halloween.ipynb#X32sZmlsZQ%3D%3D?line=17'>18</a>\u001b[0m fitness_difference \u001b[39m=\u001b[39m new_fitness \u001b[39m-\u001b[39m old_fitness\n\u001b[0;32m     <a href='vscode-notebook-cell:/c%3A/Users/bea-c/OneDrive/Desktop/CI/Personal_repo_CI/Computational_intelligence/Labs/Halloween_challenge/Halloween.ipynb#X32sZmlsZQ%3D%3D?line=19'>20</a>\u001b[0m \u001b[39m# Accept worse solution with a certain probability\u001b[39;00m\n\u001b[1;32m---> <a href='vscode-notebook-cell:/c%3A/Users/bea-c/OneDrive/Desktop/CI/Personal_repo_CI/Computational_intelligence/Labs/Halloween_challenge/Halloween.ipynb#X32sZmlsZQ%3D%3D?line=20'>21</a>\u001b[0m \u001b[39mif\u001b[39;00m fitness_difference \u001b[39m>\u001b[39m \u001b[39m0\u001b[39m \u001b[39mor\u001b[39;00m np\u001b[39m.\u001b[39mrandom\u001b[39m.\u001b[39mrand() \u001b[39m<\u001b[39m math\u001b[39m.\u001b[39mexp(fitness_difference \u001b[39m/\u001b[39m temperature):\n\u001b[0;32m     <a href='vscode-notebook-cell:/c%3A/Users/bea-c/OneDrive/Desktop/CI/Personal_repo_CI/Computational_intelligence/Labs/Halloween_challenge/Halloween.ipynb#X32sZmlsZQ%3D%3D?line=21'>22</a>\u001b[0m     state \u001b[39m=\u001b[39m new_state\n\u001b[0;32m     <a href='vscode-notebook-cell:/c%3A/Users/bea-c/OneDrive/Desktop/CI/Personal_repo_CI/Computational_intelligence/Labs/Halloween_challenge/Halloween.ipynb#X32sZmlsZQ%3D%3D?line=22'>23</a>\u001b[0m     best_fitness \u001b[39m=\u001b[39m new_fitness\n",
      "\u001b[1;31mValueError\u001b[0m: The truth value of an array with more than one element is ambiguous. Use a.any() or a.all()"
     ]
    }
   ],
   "source": [
    "print(\"Simulated Annealing\")\n",
    "print(\"OB: Accept worse solution with a certain probability\")\n",
    "print(\"----------------------------------------------\")\n",
    "for n, d in product(num_points, density):\n",
    "  sets = make_set_covering_problem(n, n, d)\n",
    "  initial_solution = np.zeros(n, dtype=bool)\n",
    "  max_iterations = 1000\n",
    "  n_samples = 10\n",
    "  initial_temperature = 1\n",
    "  cooling_rate = 0.95\n",
    "  best_solution, best_fitness, calling_fitness = SimulatedAnnealing(initial_solution, sets, max_iterations, n_samples, initial_temperature, cooling_rate)\n",
    "  print(f\"n: {n}, d: {d}, best_fitness: {best_fitness}, calling_fitness: {calling_fitness}\")"
   ]
  }
 ],
 "metadata": {
  "kernelspec": {
   "display_name": "Python 3",
   "language": "python",
   "name": "python3"
  },
  "language_info": {
   "codemirror_mode": {
    "name": "ipython",
    "version": 3
   },
   "file_extension": ".py",
   "mimetype": "text/x-python",
   "name": "python",
   "nbconvert_exporter": "python",
   "pygments_lexer": "ipython3",
   "version": "3.11.6"
  }
 },
 "nbformat": 4,
 "nbformat_minor": 2
}
