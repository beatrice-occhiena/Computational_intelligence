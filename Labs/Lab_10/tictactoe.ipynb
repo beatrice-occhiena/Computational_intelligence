{
 "cells": [
  {
   "cell_type": "markdown",
   "metadata": {},
   "source": [
    "**Author:** Beatrice Occhiena s314971. See [`LICENSE`](https://github.com/beatrice-occhiena/Computational_intelligence/blob/main/LICENSE) for details.\n",
    "- institutional email: `S314971@studenti.polito.it`\n",
    "- personal email: `beatrice.occhiena@live.it`\n",
    "- github repository: [https://github.com/beatrice-occhiena/Computational_intelligence.git](https://github.com/beatrice-occhiena/Computational_intelligence.git)\n",
    "\n",
    "**Resources:** These notes are the result of additional research and analysis of the lecture material presented by Professor Giovanni Squillero for the Computational Intelligence course during the academic year 2023-2024 @ Politecnico di Torino. They are intended to be my attempt to make a personal contribution and to rework the topics covered in the following resources.\n",
    "- [https://github.com/squillero/computational-intelligence](https://github.com/squillero/computational-intelligence)\n",
    "- Stuart Russel, Peter Norvig, *Artificial Intelligence: A Modern Approach* [3th edition]\n",
    "- Richard S. Sutton, Andrew G. Barto, *Reinforcement Learning: An Introduction* [2nd Edition]\n",
    "\n",
    ".\n",
    "\n",
    "."
   ]
  },
  {
   "cell_type": "markdown",
   "metadata": {},
   "source": [
    "# Lab 10: Reinforcement Learning\n",
    "**MAIN TASK**: Use reinforcement learning to devise a tic-tac-toe player.\n",
    "- `Deadline`: Christmas Day 🎅🏻\n",
    "- `Reviews`: Epiphany 📆"
   ]
  },
  {
   "cell_type": "markdown",
   "metadata": {},
   "source": [
    "## [1] Tic-Tac-Toe Game Environment"
   ]
  },
  {
   "cell_type": "code",
   "execution_count": 3,
   "metadata": {},
   "outputs": [],
   "source": [
    "from itertools import combinations\n",
    "from collections import namedtuple, defaultdict\n",
    "from random import choice, random\n",
    "from copy import deepcopy\n",
    "\n",
    "from tqdm.auto import tqdm\n",
    "import numpy as np\n",
    "import matplotlib.pyplot as plt"
   ]
  },
  {
   "cell_type": "markdown",
   "metadata": {},
   "source": [
    "### Game Class"
   ]
  },
  {
   "cell_type": "code",
   "execution_count": 4,
   "metadata": {},
   "outputs": [],
   "source": [
    "class TicTacToe:\n",
    "  def __init__(self, starting_player='X'):\n",
    "    # Initialize the empty board\n",
    "    self.board = [[' ' for _ in range(3)] for _ in range(3)]\n",
    "    # Define magic square to check for a winner\n",
    "    self.magic_square = [[2, 7, 6], [9, 5, 1], [4, 3, 8]]\n",
    "    # Define player symbols\n",
    "    self.players = ['X', 'O']\n",
    "    # Initialize the current player\n",
    "    self.current_player = starting_player\n",
    "\n",
    "  def print_board(self):\n",
    "    \"\"\"Display the current state of the board\"\"\"\n",
    "    emoji_map = {'X': '❌', 'O': '🔘', ' ': '⬜'}\n",
    "    for row in self.board:\n",
    "      print(''.join([emoji_map[space] for space in row]))\n",
    "    print()\n",
    "\n",
    "  def make_move(self, row, col):\n",
    "    \"\"\"Make a move on the board if the space is empty\"\"\"\n",
    "    if self.board[row][col] == ' ' and 0 <= row <= 2 and 0 <= col <= 2:\n",
    "      self.board[row][col] = self.current_player\n",
    "      return True # Move was successful\n",
    "    else:\n",
    "      print(\"Invalid move!\")\n",
    "      return False # Move was unsuccessful\n",
    "    \n",
    "  def switch_player(self):\n",
    "    \"\"\"Switch the current player\"\"\"\n",
    "    self.current_player = self.players[(self.players.index(self.current_player) + 1) % 2]\n",
    "\n",
    "  def check_winner(self):\n",
    "    \"\"\"\n",
    "    Check if there is a winner on the board.\n",
    "    - Returns 'X' if X wins\n",
    "    - Returns 'O' if O wins\n",
    "    - Returns None if there is no winner\n",
    "    \"\"\"\n",
    "    # 1. Convert board positions to magic square values\n",
    "    x_positions = [self.magic_square[row][col] for row in range(3) for col in range(3) if self.board[row][col] == 'X']\n",
    "    o_positions = [self.magic_square[row][col] for row in range(3) for col in range(3) if self.board[row][col] == 'O']\n",
    "    \n",
    "    # 2. Check if any combination of 3 positions sums to 15\n",
    "    if any(sum(comb) == 15 for comb in combinations(x_positions, 3)):\n",
    "      return 'X'\n",
    "    elif any(sum(comb) == 15 for comb in combinations(o_positions, 3)):\n",
    "      return 'O'\n",
    "\n",
    "    return None\n",
    "  \n",
    "  def is_draw(self):\n",
    "    \"\"\"Check if the game is a draw\"\"\"\n",
    "    return all([space != ' ' for row in self.board for space in row])"
   ]
  },
  {
   "cell_type": "markdown",
   "metadata": {},
   "source": [
    "### Player Class"
   ]
  },
  {
   "cell_type": "code",
   "execution_count": 5,
   "metadata": {},
   "outputs": [],
   "source": [
    "class Player:\n",
    "  def __init__(self):\n",
    "    pass\n",
    "\n",
    "  def make_move(self, game: TicTacToe):\n",
    "    \"\"\"Make a move in the given TicTacToe game instance\"\"\"\n",
    "    raise NotImplementedError(\"This method should be implemented by subclasses.\")"
   ]
  },
  {
   "cell_type": "code",
   "execution_count": 6,
   "metadata": {},
   "outputs": [],
   "source": [
    "class HumanPlayer(Player):\n",
    "  \n",
    "  def make_move(self, game: TicTacToe):\n",
    "    \"\"\"Get a move from the user\"\"\"\n",
    "\n",
    "    # 1. Print the board\n",
    "    print(\"Current board:\")\n",
    "    game.print_board()\n",
    "\n",
    "    # 2. Get a valid move from the user\n",
    "    valid_move = False\n",
    "    while not valid_move:\n",
    "      try:\n",
    "        row = int(input(\"Enter row (0-2): \"))\n",
    "        col = int(input(\"Enter column (0-2): \"))\n",
    "        valid_move = game.make_move(row, col)\n",
    "        if not valid_move:\n",
    "          print(\"Invalid move, try again.\")\n",
    "      except ValueError:\n",
    "        print(\"Invalid input. Please enter numbers only.\")"
   ]
  },
  {
   "cell_type": "code",
   "execution_count": 11,
   "metadata": {},
   "outputs": [],
   "source": [
    "class RandomPlayer(Player):\n",
    "    \n",
    "  def make_move(self, game: TicTacToe):\n",
    "    \"\"\"Make a random move on the board\"\"\"\n",
    "    # 1. Get all empty spaces\n",
    "    empty_spaces = [(row, col) for row in range(3) for col in range(3) if game.board[row][col] == ' ']\n",
    "    # 2. Choose a random empty space\n",
    "    row, col = choice(empty_spaces)\n",
    "    # 3. Make the move\n",
    "    game.make_move(row, col)"
   ]
  },
  {
   "cell_type": "markdown",
   "metadata": {},
   "source": [
    "### Match Implementation"
   ]
  },
  {
   "cell_type": "code",
   "execution_count": 7,
   "metadata": {},
   "outputs": [],
   "source": [
    "def play_game(game: TicTacToe, player1: Player, player2: Player, verbose=False) -> str:\n",
    "  \n",
    "  \"\"\"\n",
    "    Play a game of TicTacToe between two players\n",
    "    - player1 as 'X': The first player to make a move\n",
    "    - player2 as 'O': The second player to make a move\n",
    "    \n",
    "    Returns the winner of the game\n",
    "  \"\"\"\n",
    "  \n",
    "  # 1. Initialize the game\n",
    "  game_over = False\n",
    "  winner = None\n",
    "\n",
    "  # 2. Play the game\n",
    "  while not game_over:\n",
    "    # 2.1. Get the current player\n",
    "    current_player = player1 if game.current_player == 'X' else player2\n",
    "\n",
    "    # 2.2. VERBOSE: Print the board\n",
    "    if verbose:\n",
    "      print(f\"Current player: {game.current_player}\")\n",
    "      game.print_board()\n",
    "\n",
    "    # 2.3. Make a move\n",
    "    current_player.make_move(game)\n",
    "\n",
    "    # 2.4. Check if the game is over\n",
    "    winner = game.check_winner()\n",
    "    if winner is not None:\n",
    "      game_over = True\n",
    "    elif game.is_draw():\n",
    "      game_over = True\n",
    "\n",
    "    # 2.5. Switch the player\n",
    "    game.switch_player()\n",
    "\n",
    "  # 3. VERBOSE: Print the final board\n",
    "  if verbose:\n",
    "    print(\"Final board:\")\n",
    "    game.print_board()\n",
    "\n",
    "  # 4. VERBOSE: Print the winner\n",
    "  if winner is None:\n",
    "    if verbose:\n",
    "      print(\"It's a draw!\")\n",
    "    return 'draw'\n",
    "  else:\n",
    "    if verbose:\n",
    "      print(f\"{winner} wins!\")\n",
    "    return winner"
   ]
  },
  {
   "cell_type": "code",
   "execution_count": 8,
   "metadata": {},
   "outputs": [],
   "source": [
    "def collect_results(player1: Player, player2: Player, n_games=1000, verbose=False):\n",
    "  \"\"\"\n",
    "    Play n_games of TicTacToe between two players and return the results\n",
    "    - player1 as 'X': The first player to make a move\n",
    "    - player2 as 'O': The second player to make a move\n",
    "  \"\"\"\n",
    "  # 1. Initialize the results\n",
    "  results = defaultdict(int)\n",
    "\n",
    "  # 2. Play the games\n",
    "  # tqdm is a progress bar that displays the progress of the loop\n",
    "  for _ in tqdm(range(n_games)):\n",
    "    new_game = TicTacToe()\n",
    "    winner = play_game(new_game, deepcopy(player1), deepcopy(player2), verbose=verbose)\n",
    "    results[winner] += 1\n",
    "\n",
    "  # 3. Print the results\n",
    "  print(f\"Player 1 ({player1.__class__.__name__}) wins: {results['X']}\")\n",
    "  print(f\"Player 2 ({player2.__class__.__name__}) wins: {results['O']}\")\n",
    "  print(f\"Draws: {results['draw']}\")\n",
    "\n",
    "  return results"
   ]
  },
  {
   "cell_type": "markdown",
   "metadata": {},
   "source": [
    "#### Example matches\n",
    "Here are some examples of matches between two random players to check the correct implementation of the game mechanics and the results collection."
   ]
  },
  {
   "cell_type": "code",
   "execution_count": 84,
   "metadata": {},
   "outputs": [
    {
     "name": "stdout",
     "output_type": "stream",
     "text": [
      "Current player: X\n",
      "⬜⬜⬜\n",
      "⬜⬜⬜\n",
      "⬜⬜⬜\n",
      "\n",
      "Current player: O\n",
      "⬜⬜⬜\n",
      "⬜⬜⬜\n",
      "⬜⬜❌\n",
      "\n",
      "Current player: X\n",
      "⬜⬜⬜\n",
      "⬜⬜🔘\n",
      "⬜⬜❌\n",
      "\n",
      "Current player: O\n",
      "⬜⬜⬜\n",
      "⬜⬜🔘\n",
      "⬜❌❌\n",
      "\n",
      "Current player: X\n",
      "⬜⬜🔘\n",
      "⬜⬜🔘\n",
      "⬜❌❌\n",
      "\n",
      "Final board:\n",
      "⬜⬜🔘\n",
      "⬜⬜🔘\n",
      "❌❌❌\n",
      "\n",
      "X wins!\n"
     ]
    },
    {
     "name": "stderr",
     "output_type": "stream",
     "text": [
      "100%|██████████| 1000/1000 [00:00<00:00, 9243.44it/s]"
     ]
    },
    {
     "name": "stdout",
     "output_type": "stream",
     "text": [
      "Player 1 (RandomPlayer) wins: 585\n",
      "Player 2 (RandomPlayer) wins: 308\n",
      "Draws: 107\n"
     ]
    },
    {
     "name": "stderr",
     "output_type": "stream",
     "text": [
      "\n"
     ]
    },
    {
     "data": {
      "image/png": "[encoded data removed]",
      "text/plain": [
       "<Figure size 500x300 with 1 Axes>"
      ]
     },
     "metadata": {},
     "output_type": "display_data"
    },
    {
     "data": {
      "text/plain": [
       "<Figure size 500x500 with 0 Axes>"
      ]
     },
     "metadata": {},
     "output_type": "display_data"
    }
   ],
   "source": [
    "# 1. Initialize the players\n",
    "rand_player1 = RandomPlayer()\n",
    "rand_player2 = RandomPlayer()\n",
    "\n",
    "# 2. Play one game with verbose output\n",
    "new_game = TicTacToe()\n",
    "play_game(new_game, rand_player1, rand_player2, verbose=True)\n",
    "\n",
    "# 3. Play multiple games to collect the statistics\n",
    "results = collect_results(rand_player1, rand_player2, n_games=1000, verbose=False)\n",
    "\n",
    "# 4. Plot the results\n",
    "plt.title(\"Random vs Random Stats on 1000 games\")\n",
    "plt.bar(range(3), [results['X'], results['O'], results['draw']], color=['red', 'black', 'gray'])\n",
    "plt.xticks(range(3), ['X', 'O', 'draw'])\n",
    "plt.figure(figsize=(5, 5))\n",
    "plt.show()"
   ]
  },
  {
   "cell_type": "markdown",
   "metadata": {},
   "source": [
    "## [2] Reinforcement Learning"
   ]
  },
  {
   "cell_type": "markdown",
   "metadata": {},
   "source": [
    "### Monte Carlo Method 🤹🏻\n",
    "\n",
    "The fundamental idea underlying the Monte Carlo method is to use simulations to solve problems that cannot be easily solved analytically.\n",
    "- **Model-Free**: Unlike other techniques, here we do not assume complete knowledge of the environment's dynamics. Monte Carlo methods require only `experience`, since it addresses uncertainty by `simulating` different possible sequences of events, often referred to as `trajectories`. This makes them particularly useful in situations where model information is difficult to obtain or unavailable.\n",
    "- **Average Return**: For each sampled trajectory, the method observes the returns obtained by the agent. Returns represent the `cumulative rewards` obtained over the entire sequence of actions. Since different trajectories may result in different returns due to the `stochastic nature` of the environment, the method averages these returns over multiple samples.\n",
    "\n",
    "  > Action-value function: $Q(s,a) = \\frac{1}{N} \\sum_{i=1}^{N} G_i(s,a)$\n",
    "  \n",
    "  Where $G_i(s,a)$ is the return obtained by the agent after performing action $a$ in state $s$ in the $i$-th sampled trajectory.\n",
    "\n",
    "The Monte Carlo method is particularly well-suited in this context due to the following reasons:\n",
    "1. **Limited State Space**: Tic-tac-toe has a finite and relatively small state space, making it feasible for the Monte Carlo method to explore and evaluate all possible states through random sampling. In fact, the more simulations we run, the more accurate our estimates will be. But of course, this comes at the cost of `computational complexity`.\n",
    "2. **Episodic Nature**: Tic-tac-toe is an episodic task, meaning that each episode (the match) has a well-defined terminal state (win, lose, or draw). This allows us to use the `terminal reward` as a proxy for the value of all states visited in that episode. This approach contrasts with methods that update values or policies at each step within an episode and may result in a form of `delayed learning`, slowing down the adaptation process. However, this is not a problem in our case, since the game has very short trajectories.\n"
   ]
  },
  {
   "cell_type": "markdown",
   "metadata": {},
   "source": [
    "#### Parameters\n",
    "- **Exploration Rate**: $\\epsilon$ represents the probability of choosing to explore the environment rather than exploit the current known information. In other words, it's the likelihood that the learning agent will make a random move instead of the move that seems best according to its current knowledge.\n",
    "- **Discount Factor**: $\\gamma$  is a number between 0 and 1 that represents the importance of future rewards compared to immediate rewards. A higher value places more emphasis on future rewards, while a lower value makes the agent more short-sighted, caring more about immediate rewards. In the Monte Carlo method, after each game, we want to update the value of each state encountered during the match. The reward that a state receives depends not only on the immediate reward but also on the rewards of all future states, discounted by this factor. \n",
    "  > State value update: $V(s) = V(s) + \\alpha [G_t - V(s)]$\n",
    "  \n",
    "  > Return from state $s$ onward: $G_t = R_{t+1} + \\gamma R_{t+2} + \\gamma^2 R_{t+3} + ... = \\sum_{k=0}^{\\infty} \\gamma^k R_{t+k+1}$\n",
    "- **Learning Rate**: $\\alpha$ is the learning rate, which determines the extent to which new information overrides old information. A higher value makes the agent more sensitive to new information, while a lower value makes it more conservative, relying more on past experience.\n",
    "  "
   ]
  },
  {
   "cell_type": "code",
   "execution_count": 17,
   "metadata": {},
   "outputs": [],
   "source": [
    "class MonteCarloPlayer(Player):\n",
    "    def __init__(self, exploration_rate=0.1, discount_factor=0.9, learning_rate=1, exploration_decay=0.95):\n",
    "        super().__init__()\n",
    "        self.exploration_rate = exploration_rate\n",
    "        self.discount_factor = discount_factor\n",
    "        self.learning_rate = learning_rate\n",
    "        self.exploration_decay = exploration_decay\n",
    "        self.state_action_values = defaultdict(lambda: defaultdict(float))  # Nested defaultdict for state-action pairs\n",
    "        self.state_visits = defaultdict(lambda: defaultdict(int))  # Track visits for each state-action pair\n",
    "        self.rewards = []  # Track rewards\n",
    "        self.states = []  # Track states\n",
    "        self.actions = []  # Track actions\n",
    "\n",
    "    def choose_action(self, game):\n",
    "        \"\"\"\n",
    "        Choose an action based on the exploration-exploitation tradeoff.\n",
    "        \"\"\"\n",
    "        # Check available actions\n",
    "        available_actions = [(row, col) for row in range(3) for col in range(3) if game.board[row][col] == ' ']\n",
    "\n",
    "        # Exploration vs Exploitation\n",
    "        if random() < self.exploration_rate:\n",
    "            # Exploration: Choose a random action\n",
    "            return choice(available_actions)\n",
    "        else:\n",
    "            # Exploitation: Choose the best action based on current knowledge\n",
    "            best_action = None\n",
    "            best_value = float('-inf')\n",
    "            for action in available_actions:\n",
    "                action_value = self.state_action_values[self.serialize_board(game.board)][action]\n",
    "                if action_value > best_value:\n",
    "                    best_value = action_value\n",
    "                    best_action = action\n",
    "            return best_action\n",
    "\n",
    "    def make_move(self, game):\n",
    "        \"\"\"\n",
    "        Choose and make a move in the game.\n",
    "        \"\"\"\n",
    "        action = self.choose_action(game)\n",
    "        row, col = action\n",
    "        game.make_move(row, col)\n",
    "        self.states.append(self.serialize_board(game.board))\n",
    "        self.actions.append(action)\n",
    "\n",
    "    def serialize_board(self, board):\n",
    "        \"\"\"\n",
    "        Convert the board state to a string representation.\n",
    "        \"\"\"\n",
    "        return ''.join([''.join(row) for row in board])\n",
    "\n",
    "    def update_rewards(self, result):\n",
    "        \"\"\"\n",
    "        Update rewards based on the game result.\n",
    "        \"\"\"\n",
    "        reward = 1 if result == 'X' else -1 if result == 'O' else 0\n",
    "        self.rewards = [reward] * len(self.states)\n",
    "\n",
    "    def update_values(self):\n",
    "        \"\"\"\n",
    "        Update the state-action values based on the outcomes of the game.\n",
    "        \"\"\"\n",
    "        G = 0\n",
    "        for state, action, reward in zip(reversed(self.states), reversed(self.actions), reversed(self.rewards)):\n",
    "            G = reward + self.discount_factor * G\n",
    "            self.state_visits[state][action] += 1\n",
    "            alpha = 1 / self.state_visits[state][action]\n",
    "            self.state_action_values[state][action] += alpha * (G - self.state_action_values[state][action])\n",
    "\n",
    "    def reset(self):\n",
    "        \"\"\"\n",
    "        Reset the history for a new game.\n",
    "        \"\"\"\n",
    "        self.rewards = []\n",
    "        self.states = []\n",
    "        self.actions = []\n",
    "\n",
    "    def end_game(self, result):\n",
    "        \"\"\"\n",
    "        Perform updates at the end of a game.\n",
    "        \"\"\"\n",
    "        self.update_rewards(result)\n",
    "        self.update_values()\n",
    "        self.reset()\n",
    "        self.exploration_rate *= self.exploration_decay\n",
    "\n",
    "    def train(self, opponent, num_games):\n",
    "        \"\"\"\n",
    "        Train the player by playing a number of games against a given opponent.\n",
    "        \"\"\"\n",
    "        for _ in range(num_games):\n",
    "            # Initialize a new game\n",
    "            game = TicTacToe()\n",
    "            game_over = False\n",
    "\n",
    "            while not game_over:\n",
    "                # Determine the current player\n",
    "                current_player = self if game.current_player == 'X' else opponent\n",
    "\n",
    "                # Make a move\n",
    "                current_player.make_move(game)\n",
    "\n",
    "                # Check for a winner or a draw\n",
    "                winner = game.check_winner()\n",
    "                if winner is not None:\n",
    "                    game_over = True\n",
    "                    if winner == 'X':\n",
    "                        self.end_game('win')\n",
    "                        if opponent.__class__.__name__ == 'MonteCarloPlayer':\n",
    "                            opponent.end_game('loss')\n",
    "                    else:\n",
    "                        self.end_game('loss')\n",
    "                        if opponent.__class__.__name__ == 'MonteCarloPlayer':\n",
    "                            opponent.end_game('loss')\n",
    "                elif game.is_draw():\n",
    "                    game_over = True\n",
    "                    self.end_game('draw')\n",
    "                    if opponent.__class__.__name__ == 'MonteCarloPlayer':\n",
    "                            opponent.end_game('loss')\n",
    "\n",
    "                # Switch players\n",
    "                game.switch_player()\n",
    "\n",
    "            # Reset the game state for the next game\n",
    "            self.reset()\n",
    "            if opponent.__class__.__name__ == 'MonteCarloPlayer':\n",
    "                opponent.reset()"
   ]
  },
  {
   "cell_type": "code",
   "execution_count": 28,
   "metadata": {},
   "outputs": [
    {
     "name": "stderr",
     "output_type": "stream",
     "text": [
      "100%|██████████| 1000/1000 [00:02<00:00, 446.38it/s]\n"
     ]
    },
    {
     "name": "stdout",
     "output_type": "stream",
     "text": [
      "Player 1 (MonteCarloPlayer) wins: 794\n",
      "Player 2 (RandomPlayer) wins: 171\n",
      "Draws: 35\n"
     ]
    },
    {
     "name": "stderr",
     "output_type": "stream",
     "text": [
      "100%|██████████| 1000/1000 [00:02<00:00, 480.92it/s]\n",
      " 20%|██        | 1/5 [00:04<00:17,  4.34s/it]"
     ]
    },
    {
     "name": "stdout",
     "output_type": "stream",
     "text": [
      "Player 1 (RandomPlayer) wins: 519\n",
      "Player 2 (MonteCarloPlayer) wins: 440\n",
      "Draws: 41\n"
     ]
    },
    {
     "name": "stderr",
     "output_type": "stream",
     "text": [
      "100%|██████████| 1000/1000 [00:02<00:00, 401.16it/s]\n"
     ]
    },
    {
     "name": "stdout",
     "output_type": "stream",
     "text": [
      "Player 1 (MonteCarloPlayer) wins: 783\n",
      "Player 2 (RandomPlayer) wins: 172\n",
      "Draws: 45\n"
     ]
    },
    {
     "name": "stderr",
     "output_type": "stream",
     "text": [
      "100%|██████████| 1000/1000 [00:02<00:00, 435.03it/s]\n",
      " 40%|████      | 2/5 [00:09<00:13,  4.63s/it]"
     ]
    },
    {
     "name": "stdout",
     "output_type": "stream",
     "text": [
      "Player 1 (RandomPlayer) wins: 505\n",
      "Player 2 (MonteCarloPlayer) wins: 454\n",
      "Draws: 41\n"
     ]
    },
    {
     "name": "stderr",
     "output_type": "stream",
     "text": [
      "100%|██████████| 1000/1000 [00:02<00:00, 441.30it/s]\n"
     ]
    },
    {
     "name": "stdout",
     "output_type": "stream",
     "text": [
      "Player 1 (MonteCarloPlayer) wins: 781\n",
      "Player 2 (RandomPlayer) wins: 171\n",
      "Draws: 48\n"
     ]
    },
    {
     "name": "stderr",
     "output_type": "stream",
     "text": [
      "100%|██████████| 1000/1000 [00:02<00:00, 439.99it/s]\n",
      " 60%|██████    | 3/5 [00:13<00:09,  4.61s/it]"
     ]
    },
    {
     "name": "stdout",
     "output_type": "stream",
     "text": [
      "Player 1 (RandomPlayer) wins: 524\n",
      "Player 2 (MonteCarloPlayer) wins: 439\n",
      "Draws: 37\n"
     ]
    },
    {
     "name": "stderr",
     "output_type": "stream",
     "text": [
      "100%|██████████| 1000/1000 [00:02<00:00, 418.41it/s]\n"
     ]
    },
    {
     "name": "stdout",
     "output_type": "stream",
     "text": [
      "Player 1 (MonteCarloPlayer) wins: 797\n",
      "Player 2 (RandomPlayer) wins: 160\n",
      "Draws: 43\n"
     ]
    },
    {
     "name": "stderr",
     "output_type": "stream",
     "text": [
      "100%|██████████| 1000/1000 [00:02<00:00, 387.03it/s]\n",
      " 80%|████████  | 4/5 [00:18<00:04,  4.80s/it]"
     ]
    },
    {
     "name": "stdout",
     "output_type": "stream",
     "text": [
      "Player 1 (RandomPlayer) wins: 533\n",
      "Player 2 (MonteCarloPlayer) wins: 447\n",
      "Draws: 20\n"
     ]
    },
    {
     "name": "stderr",
     "output_type": "stream",
     "text": [
      "100%|██████████| 1000/1000 [00:02<00:00, 444.66it/s]\n"
     ]
    },
    {
     "name": "stdout",
     "output_type": "stream",
     "text": [
      "Player 1 (MonteCarloPlayer) wins: 786\n",
      "Player 2 (RandomPlayer) wins: 170\n",
      "Draws: 44\n"
     ]
    },
    {
     "name": "stderr",
     "output_type": "stream",
     "text": [
      "100%|██████████| 1000/1000 [00:02<00:00, 443.43it/s]\n",
      "100%|██████████| 5/5 [00:23<00:00,  4.71s/it]\n"
     ]
    },
    {
     "name": "stdout",
     "output_type": "stream",
     "text": [
      "Player 1 (RandomPlayer) wins: 498\n",
      "Player 2 (MonteCarloPlayer) wins: 457\n",
      "Draws: 45\n"
     ]
    },
    {
     "data": {
      "image/png": "[encoded data removed]",
      "text/plain": [
       "<Figure size 640x480 with 1 Axes>"
      ]
     },
     "metadata": {},
     "output_type": "display_data"
    },
    {
     "data": {
      "image/png": "[encoded data removed]",
      "text/plain": [
       "<Figure size 640x480 with 1 Axes>"
      ]
     },
     "metadata": {},
     "output_type": "display_data"
    }
   ],
   "source": [
    "mc_player = MonteCarloPlayer()\n",
    "opponent = RandomPlayer()  # or another MonteCarloPlayer\n",
    "\n",
    "training_steps = [100, 250, 500, 1000, 2500]#, 5000]#, 7500, 10000, 25000, 50000]\n",
    "training_results_move_first = []\n",
    "training_results_move_second = []\n",
    "\n",
    "for steps in tqdm(training_steps):\n",
    "    \n",
    "    # 1. Train the RL-agent against the opponent for a given number of steps\n",
    "    mc_player.train(opponent, steps)\n",
    "\n",
    "    # 2. Play 1000 games against the opponent making the first move\n",
    "    results = collect_results(mc_player, opponent, n_games=1000, verbose=False)\n",
    "    training_results_move_first.append(results)\n",
    "\n",
    "    # 3. Play 1000 games against the opponent making the second move\n",
    "    results = collect_results(opponent, mc_player, n_games=1000, verbose=False)\n",
    "    training_results_move_second.append(results)\n",
    "\n",
    "# 4. Plot the results\n",
    "def plot_results(training_results, move_first=True):\n",
    "    plt.title(f\"Monte Carlo Training Results ({'MC' if move_first else 'Random'} Player Moves First)\")\n",
    "    plt.plot(training_steps, [res['X'] for res in training_results], label=('MC' if move_first else 'Random') + ' Player Wins', color='red')\n",
    "    plt.plot(training_steps, [res['O'] for res in training_results], label=('MC' if move_first else 'Random') + ' Player Losses', color='black')\n",
    "    plt.plot(training_steps, [res['draw'] for res in training_results], label=\"Draws\", color='gray')\n",
    "    plt.legend()\n",
    "    plt.xlabel(\"Training Steps\")\n",
    "    plt.ylabel(\"Number of Wins\")\n",
    "    plt.show()\n",
    "\n",
    "plot_results(training_results_move_first, move_first=True)\n",
    "plot_results(training_results_move_second, move_first=False)"
   ]
  }
 ],
 "metadata": {
  "kernelspec": {
   "display_name": "Python 3",
   "language": "python",
   "name": "python3"
  },
  "language_info": {
   "codemirror_mode": {
    "name": "ipython",
    "version": 3
   },
   "file_extension": ".py",
   "mimetype": "text/x-python",
   "name": "python",
   "nbconvert_exporter": "python",
   "pygments_lexer": "ipython3",
   "version": "3.11.7"
  }
 },
 "nbformat": 4,
 "nbformat_minor": 2
}
