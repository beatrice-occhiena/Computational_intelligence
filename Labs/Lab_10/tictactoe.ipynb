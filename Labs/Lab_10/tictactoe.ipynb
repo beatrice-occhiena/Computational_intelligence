{
 "cells": [
  {
   "cell_type": "markdown",
   "metadata": {},
   "source": [
    "**Author:** Beatrice Occhiena s314971. See [`LICENSE`](https://github.com/beatrice-occhiena/Computational_intelligence/blob/main/LICENSE) for details.\n",
    "- institutional email: `S314971@studenti.polito.it`\n",
    "- personal email: `beatrice.occhiena@live.it`\n",
    "- github repository: [https://github.com/beatrice-occhiena/Computational_intelligence.git](https://github.com/beatrice-occhiena/Computational_intelligence.git)\n",
    "\n",
    "**Resources:** These notes are the result of additional research and analysis of the lecture material presented by Professor Giovanni Squillero for the Computational Intelligence course during the academic year 2023-2024 @ Politecnico di Torino. They are intended to be my attempt to make a personal contribution and to rework the topics covered in the following resources.\n",
    "- [https://github.com/squillero/computational-intelligence](https://github.com/squillero/computational-intelligence)\n",
    "- Stuart Russel, Peter Norvig, *Artificial Intelligence: A Modern Approach* [3th edition]\n",
    "- Richard S. Sutton, Andrew G. Barto, *Reinforcement Learning: An Introduction* [2nd Edition]\n",
    "\n",
    ".\n",
    "\n",
    "."
   ]
  },
  {
   "cell_type": "markdown",
   "metadata": {},
   "source": [
    "# Lab 10: Reinforcement Learning\n",
    "**MAIN TASK**: Use reinforcement learning to devise a tic-tac-toe player.\n",
    "- `Deadline`: Christmas Day 🎅🏻\n",
    "- `Reviews`: Epiphany 📆"
   ]
  },
  {
   "cell_type": "markdown",
   "metadata": {},
   "source": [
    "## [1] Tic-Tac-Toe Game Environment"
   ]
  },
  {
   "cell_type": "code",
   "execution_count": 3,
   "metadata": {},
   "outputs": [],
   "source": [
    "from itertools import combinations\n",
    "from collections import namedtuple, defaultdict\n",
    "from random import choice, random\n",
    "from copy import deepcopy\n",
    "\n",
    "from tqdm.auto import tqdm\n",
    "import numpy as np\n",
    "import matplotlib.pyplot as plt"
   ]
  },
  {
   "cell_type": "markdown",
   "metadata": {},
   "source": [
    "### Game Class"
   ]
  },
  {
   "cell_type": "code",
   "execution_count": 4,
   "metadata": {},
   "outputs": [],
   "source": [
    "class TicTacToe:\n",
    "  def __init__(self, starting_player='X'):\n",
    "    # Initialize the empty board\n",
    "    self.board = [[' ' for _ in range(3)] for _ in range(3)]\n",
    "    # Define magic square to check for a winner\n",
    "    self.magic_square = [[2, 7, 6], [9, 5, 1], [4, 3, 8]]\n",
    "    # Define player symbols\n",
    "    self.players = ['X', 'O']\n",
    "    # Initialize the current player\n",
    "    self.current_player = starting_player\n",
    "\n",
    "  def print_board(self):\n",
    "    \"\"\"Display the current state of the board\"\"\"\n",
    "    emoji_map = {'X': '❌', 'O': '🔘', ' ': '⬜'}\n",
    "    for row in self.board:\n",
    "      print(''.join([emoji_map[space] for space in row]))\n",
    "    print()\n",
    "\n",
    "  def make_move(self, row, col):\n",
    "    \"\"\"Make a move on the board if the space is empty\"\"\"\n",
    "    if self.board[row][col] == ' ' and 0 <= row <= 2 and 0 <= col <= 2:\n",
    "      self.board[row][col] = self.current_player\n",
    "      return True # Move was successful\n",
    "    else:\n",
    "      print(\"Invalid move!\")\n",
    "      return False # Move was unsuccessful\n",
    "    \n",
    "  def switch_player(self):\n",
    "    \"\"\"Switch the current player\"\"\"\n",
    "    self.current_player = self.players[(self.players.index(self.current_player) + 1) % 2]\n",
    "\n",
    "  def check_winner(self):\n",
    "    \"\"\"\n",
    "    Check if there is a winner on the board.\n",
    "    - Returns 'X' if X wins\n",
    "    - Returns 'O' if O wins\n",
    "    - Returns None if there is no winner\n",
    "    \"\"\"\n",
    "    # 1. Convert board positions to magic square values\n",
    "    x_positions = [self.magic_square[row][col] for row in range(3) for col in range(3) if self.board[row][col] == 'X']\n",
    "    o_positions = [self.magic_square[row][col] for row in range(3) for col in range(3) if self.board[row][col] == 'O']\n",
    "    \n",
    "    # 2. Check if any combination of 3 positions sums to 15\n",
    "    if any(sum(comb) == 15 for comb in combinations(x_positions, 3)):\n",
    "      return 'X'\n",
    "    elif any(sum(comb) == 15 for comb in combinations(o_positions, 3)):\n",
    "      return 'O'\n",
    "\n",
    "    return None\n",
    "  \n",
    "  def is_draw(self):\n",
    "    \"\"\"Check if the game is a draw\"\"\"\n",
    "    return all([space != ' ' for row in self.board for space in row])"
   ]
  },
  {
   "cell_type": "markdown",
   "metadata": {},
   "source": [
    "### Player Class"
   ]
  },
  {
   "cell_type": "code",
   "execution_count": 5,
   "metadata": {},
   "outputs": [],
   "source": [
    "class Player:\n",
    "  def __init__(self):\n",
    "    pass\n",
    "\n",
    "  def make_move(self, game: TicTacToe):\n",
    "    \"\"\"Make a move in the given TicTacToe game instance\"\"\"\n",
    "    raise NotImplementedError(\"This method should be implemented by subclasses.\")"
   ]
  },
  {
   "cell_type": "code",
   "execution_count": 6,
   "metadata": {},
   "outputs": [],
   "source": [
    "class HumanPlayer(Player):\n",
    "  \n",
    "  def make_move(self, game: TicTacToe):\n",
    "    \"\"\"Get a move from the user\"\"\"\n",
    "\n",
    "    # 1. Print the board\n",
    "    print(\"Current board:\")\n",
    "    game.print_board()\n",
    "\n",
    "    # 2. Get a valid move from the user\n",
    "    valid_move = False\n",
    "    while not valid_move:\n",
    "      try:\n",
    "        row = int(input(\"Enter row (0-2): \"))\n",
    "        col = int(input(\"Enter column (0-2): \"))\n",
    "        valid_move = game.make_move(row, col)\n",
    "        if not valid_move:\n",
    "          print(\"Invalid move, try again.\")\n",
    "      except ValueError:\n",
    "        print(\"Invalid input. Please enter numbers only.\")"
   ]
  },
  {
   "cell_type": "code",
   "execution_count": 11,
   "metadata": {},
   "outputs": [],
   "source": [
    "class RandomPlayer(Player):\n",
    "    \n",
    "  def make_move(self, game: TicTacToe):\n",
    "    \"\"\"Make a random move on the board\"\"\"\n",
    "    # 1. Get all empty spaces\n",
    "    empty_spaces = [(row, col) for row in range(3) for col in range(3) if game.board[row][col] == ' ']\n",
    "    # 2. Choose a random empty space\n",
    "    row, col = choice(empty_spaces)\n",
    "    # 3. Make the move\n",
    "    game.make_move(row, col)"
   ]
  },
  {
   "cell_type": "markdown",
   "metadata": {},
   "source": [
    "### Match Implementation"
   ]
  },
  {
   "cell_type": "code",
   "execution_count": 7,
   "metadata": {},
   "outputs": [],
   "source": [
    "def play_game(game: TicTacToe, player1: Player, player2: Player, verbose=False) -> str:\n",
    "  \n",
    "  \"\"\"\n",
    "    Play a game of TicTacToe between two players\n",
    "    - player1 as 'X': The first player to make a move\n",
    "    - player2 as 'O': The second player to make a move\n",
    "    \n",
    "    Returns the winner of the game\n",
    "  \"\"\"\n",
    "  \n",
    "  # 1. Initialize the game\n",
    "  game_over = False\n",
    "  winner = None\n",
    "\n",
    "  # 2. Play the game\n",
    "  while not game_over:\n",
    "    # 2.1. Get the current player\n",
    "    current_player = player1 if game.current_player == 'X' else player2\n",
    "\n",
    "    # 2.2. VERBOSE: Print the board\n",
    "    if verbose:\n",
    "      print(f\"Current player: {game.current_player}\")\n",
    "      game.print_board()\n",
    "\n",
    "    # 2.3. Make a move\n",
    "    current_player.make_move(game)\n",
    "\n",
    "    # 2.4. Check if the game is over\n",
    "    winner = game.check_winner()\n",
    "    if winner is not None:\n",
    "      game_over = True\n",
    "    elif game.is_draw():\n",
    "      game_over = True\n",
    "\n",
    "    # 2.5. Switch the player\n",
    "    game.switch_player()\n",
    "\n",
    "  # 3. VERBOSE: Print the final board\n",
    "  if verbose:\n",
    "    print(\"Final board:\")\n",
    "    game.print_board()\n",
    "\n",
    "  # 4. VERBOSE: Print the winner\n",
    "  if winner is None:\n",
    "    if verbose:\n",
    "      print(\"It's a draw!\")\n",
    "    return 'draw'\n",
    "  else:\n",
    "    if verbose:\n",
    "      print(f\"{winner} wins!\")\n",
    "    return winner"
   ]
  },
  {
   "cell_type": "code",
   "execution_count": 8,
   "metadata": {},
   "outputs": [],
   "source": [
    "def collect_results(player1: Player, player2: Player, n_games=1000, verbose=False):\n",
    "  \"\"\"\n",
    "    Play n_games of TicTacToe between two players and return the results\n",
    "    - player1 as 'X': The first player to make a move\n",
    "    - player2 as 'O': The second player to make a move\n",
    "  \"\"\"\n",
    "  # 1. Initialize the results\n",
    "  results = defaultdict(int)\n",
    "\n",
    "  # 2. Play the games\n",
    "  # tqdm is a progress bar that displays the progress of the loop\n",
    "  for _ in tqdm(range(n_games)):\n",
    "    new_game = TicTacToe()\n",
    "    winner = play_game(new_game, deepcopy(player1), deepcopy(player2), verbose=verbose)\n",
    "    results[winner] += 1\n",
    "\n",
    "  # 3. Print the results\n",
    "  print(f\"Player 1 ({player1.__class__.__name__}) wins: {results['X']}\")\n",
    "  print(f\"Player 2 ({player2.__class__.__name__}) wins: {results['O']}\")\n",
    "  print(f\"Draws: {results['draw']}\")\n",
    "\n",
    "  return results"
   ]
  },
  {
   "cell_type": "markdown",
   "metadata": {},
   "source": [
    "#### Example matches\n",
    "Here are some examples of matches between two random players to check the correct implementation of the game mechanics and the results collection."
   ]
  },
  {
   "cell_type": "code",
   "execution_count": 84,
   "metadata": {},
   "outputs": [
    {
     "name": "stdout",
     "output_type": "stream",
     "text": [
      "Current player: X\n",
      "⬜⬜⬜\n",
      "⬜⬜⬜\n",
      "⬜⬜⬜\n",
      "\n",
      "Current player: O\n",
      "⬜⬜⬜\n",
      "⬜⬜⬜\n",
      "⬜⬜❌\n",
      "\n",
      "Current player: X\n",
      "⬜⬜⬜\n",
      "⬜⬜🔘\n",
      "⬜⬜❌\n",
      "\n",
      "Current player: O\n",
      "⬜⬜⬜\n",
      "⬜⬜🔘\n",
      "⬜❌❌\n",
      "\n",
      "Current player: X\n",
      "⬜⬜🔘\n",
      "⬜⬜🔘\n",
      "⬜❌❌\n",
      "\n",
      "Final board:\n",
      "⬜⬜🔘\n",
      "⬜⬜🔘\n",
      "❌❌❌\n",
      "\n",
      "X wins!\n"
     ]
    },
    {
     "name": "stderr",
     "output_type": "stream",
     "text": [
      "100%|██████████| 1000/1000 [00:00<00:00, 9243.44it/s]"
     ]
    },
    {
     "name": "stdout",
     "output_type": "stream",
     "text": [
      "Player 1 (RandomPlayer) wins: 585\n",
      "Player 2 (RandomPlayer) wins: 308\n",
      "Draws: 107\n"
     ]
    },
    {
     "name": "stderr",
     "output_type": "stream",
     "text": [
      "\n"
     ]
    },
    {
     "data": {
      "image/png": "[encoded data removed]",
      "text/plain": [
       "<Figure size 500x300 with 1 Axes>"
      ]
     },
     "metadata": {},
     "output_type": "display_data"
    },
    {
     "data": {
      "text/plain": [
       "<Figure size 500x500 with 0 Axes>"
      ]
     },
     "metadata": {},
     "output_type": "display_data"
    }
   ],
   "source": [
    "# 1. Initialize the players\n",
    "rand_player1 = RandomPlayer()\n",
    "rand_player2 = RandomPlayer()\n",
    "\n",
    "# 2. Play one game with verbose output\n",
    "new_game = TicTacToe()\n",
    "play_game(new_game, rand_player1, rand_player2, verbose=True)\n",
    "\n",
    "# 3. Play multiple games to collect the statistics\n",
    "results = collect_results(rand_player1, rand_player2, n_games=1000, verbose=False)\n",
    "\n",
    "# 4. Plot the results\n",
    "plt.title(\"Random vs Random Stats on 1000 games\")\n",
    "plt.bar(range(3), [results['X'], results['O'], results['draw']], color=['red', 'black', 'gray'])\n",
    "plt.xticks(range(3), ['X', 'O', 'draw'])\n",
    "plt.figure(figsize=(5, 5))\n",
    "plt.show()"
   ]
  },
  {
   "cell_type": "markdown",
   "metadata": {},
   "source": [
    "## [2] Reinforcement Learning"
   ]
  },
  {
   "cell_type": "markdown",
   "metadata": {},
   "source": [
    "### Monte Carlo Method 🤹🏻\n",
    "\n",
    "The fundamental idea underlying the Monte Carlo method is to use simulations to solve problems that cannot be easily solved analytically.\n",
    "- **Model-Free**: Unlike other techniques, here we do not assume complete knowledge of the environment's dynamics. Monte Carlo methods require only `experience`, since it addresses uncertainty by `simulating` different possible sequences of events, often referred to as `trajectories`. This makes them particularly useful in situations where model information is difficult to obtain or unavailable.\n",
    "- **Average Return**: For each sampled trajectory, the method observes the returns obtained by the agent. Returns represent the `cumulative rewards` obtained over the entire sequence of actions. Since different trajectories may result in different returns due to the `stochastic nature` of the environment, the method averages these returns over multiple samples.\n",
    "\n",
    "  > Action-value function: $Q(s,a) = \\frac{1}{N} \\sum_{i=1}^{N} G_i(s,a)$\n",
    "  \n",
    "  Where $G_i(s,a)$ is the return obtained by the agent after performing action $a$ in state $s$ in the $i$-th sampled trajectory.\n",
    "\n",
    "The Monte Carlo method is particularly well-suited in this context due to the following reasons:\n",
    "1. **Limited State Space**: Tic-tac-toe has a finite and relatively small state space, making it feasible for the Monte Carlo method to explore and evaluate all possible states through random sampling. In fact, the more simulations we run, the more accurate our estimates will be. But of course, this comes at the cost of `computational complexity`.\n",
    "2. **Episodic Nature**: Tic-tac-toe is an episodic task, meaning that each episode (the match) has a well-defined terminal state (win, lose, or draw). This allows us to use the `terminal reward` as a proxy for the value of all states visited in that episode. This approach contrasts with methods that update values or policies at each step within an episode and may result in a form of `delayed learning`, slowing down the adaptation process. However, this is not a problem in our case, since the game has very short trajectories.\n"
   ]
  },
  {
   "cell_type": "markdown",
   "metadata": {},
   "source": [
    "#### Parameters\n",
    "- **Exploration Rate**: $\\epsilon$ represents the probability of choosing to explore the environment rather than exploit the current known information. In other words, it's the likelihood that the learning agent will make a random move instead of the move that seems best according to its current knowledge.\n",
    "- **Discount Factor**: $\\gamma$  is a number between 0 and 1 that represents the importance of future rewards compared to immediate rewards. A higher value places more emphasis on future rewards, while a lower value makes the agent more short-sighted, caring more about immediate rewards. In the Monte Carlo method, after each game, we want to update the value of each state encountered during the match. The reward that a state receives depends not only on the immediate reward but also on the rewards of all future states, discounted by this factor. \n",
    "  > State value update: $V(s) = V(s) + \\alpha [G_t - V(s)]$\n",
    "  \n",
    "  > Return from state $s$ onward: $G_t = R_{t+1} + \\gamma R_{t+2} + \\gamma^2 R_{t+3} + ... = \\sum_{k=0}^{\\infty} \\gamma^k R_{t+k+1}$\n",
    "- **Learning Rate**: $\\alpha$ is the learning rate, which determines the extent to which new information overrides old information. A higher value makes the agent more sensitive to new information, while a lower value makes it more conservative, relying more on past experience.\n",
    "  "
   ]
  },
  {
   "cell_type": "code",
   "execution_count": 46,
   "metadata": {},
   "outputs": [],
   "source": [
    "class MonteCarloPlayer(Player):\n",
    "    def __init__(self, exploration_rate=1, discount_factor=0.9, learning_rate=1, exploration_decay=0.999):\n",
    "        super().__init__()\n",
    "\n",
    "        # Parameters\n",
    "        self.exploration_rate = exploration_rate\n",
    "        self.discount_factor = discount_factor\n",
    "        self.learning_rate = learning_rate\n",
    "        self.exploration_decay = exploration_decay\n",
    "\n",
    "        # Structures\n",
    "        self.q_values = {} # Q(s, a)\n",
    "        self.q_counters = {} # N(s, a)\n",
    "\n",
    "    def get_hashable_state(self, game: TicTacToe):\n",
    "        \"\"\"Get a hashable representation of the game state\"\"\"\n",
    "        return tuple([tuple(row) for row in game.board])\n",
    "    \n",
    "    def get_action(self, game: TicTacToe, training_phase=False):\n",
    "        \"\"\"Get a new action for the state balancing exploration and exploitation\"\"\"\n",
    "\n",
    "        # 0. Get the current state representation\n",
    "        state = self.get_hashable_state(game)\n",
    "\n",
    "        # 1. Get all possible actions\n",
    "        empty_spaces = [(row, col) for row in range(3) for col in range(3) if game.board[row][col] == ' ']\n",
    "\n",
    "        # 2. Explore: Choose a random action (only during training phase)\n",
    "        if training_phase and random() < self.exploration_rate:\n",
    "            return choice(empty_spaces)\n",
    "        \n",
    "        # 3. Exploit: Choose the action with the highest Q-value\n",
    "        else:\n",
    "            # 3.1. Get the Q-values for each action\n",
    "            q_values = [self.q_values.get((state, action), 0) for action in empty_spaces]\n",
    "\n",
    "            # 3.2. Choose the action with the highest Q-value\n",
    "            return empty_spaces[np.argmax(q_values)]\n",
    "        \n",
    "    def make_move(self, game: TicTacToe):\n",
    "        \"\"\"Make a move based on the learned policy\"\"\"\n",
    "        # 1. Get the action\n",
    "        action = self.get_action(game)\n",
    "\n",
    "        # 2. Make the move\n",
    "        game.make_move(*action)\n",
    "\n",
    "    def get_action_reward(self, game: TicTacToe, action):\n",
    "        \"\"\"Get the reward for the given action in the given game state\"\"\"\n",
    "        # A. Attribute a reward of -0.5 for each action to encourage the agent to win as fast as possible\n",
    "        #reward = -0.5\n",
    "        # B. Attribute a reward of 0 for each action that does not lead to a win\n",
    "        reward = 0\n",
    "        return reward\n",
    "\n",
    "    def get_end_reward(self, game: TicTacToe, players, winner):\n",
    "        \"\"\"Get the reward based on the winner of the game\"\"\"\n",
    "        # 1. Get the player that won\n",
    "        if winner == 'X':\n",
    "            winning_player = players[0]\n",
    "        elif winner == 'O':\n",
    "            winning_player = players[1]\n",
    "        else:\n",
    "            winning_player = None\n",
    "\n",
    "        # 2. Attribute a big reward for the winning player\n",
    "        if winning_player == self:\n",
    "            reward = 10\n",
    "        elif winning_player is None:\n",
    "            reward = 0\n",
    "        else:\n",
    "            reward = -10\n",
    "        return reward\n",
    "\n",
    "    def update_q_values(self, trajectory):\n",
    "        \"\"\"Update the Q-values for the given trajectory\"\"\"\n",
    "        # 1. Initialize the return\n",
    "        G = 0\n",
    "\n",
    "        # 2. Iterate over the trajectory in reverse order\n",
    "        for state, action, reward in reversed(trajectory):\n",
    "\n",
    "            # 2.1. Calculate the return\n",
    "            G = self.discount_factor * G + reward\n",
    "\n",
    "            # 2.2. Update the Q-value\n",
    "            if (state, action) not in self.q_values: \n",
    "                # Initialize the Q-value if it does not exist\n",
    "                self.q_counters[(state, action)] = 0\n",
    "                self.q_values[(state, action)] = 0.0\n",
    "\n",
    "            self.q_counters[(state, action)] += 1\n",
    "            self.q_values[(state, action)] += self.learning_rate * (G - self.q_values[(state, action)]) / self.q_counters[(state, action)]            \n",
    "            \n",
    "\n",
    "    def train(self, player2: Player, n_episodes=100_000):\n",
    "\n",
    "        # 1. Define the players\n",
    "        players = (self, player2)\n",
    "\n",
    "        # 2. Play each episode (game)\n",
    "        for _ in tqdm(range(n_episodes)):\n",
    "\n",
    "            # 2.1. Initialize the game\n",
    "            game = TicTacToe()\n",
    "            game_over = False\n",
    "            \n",
    "            # 2.2. Initialize the episode\n",
    "            reward_counter = 0 # Store the total reward for the episode\n",
    "            trajectory = [] # Store the trajectory (state, action, reward) for each step in the episode\n",
    "            players = (players[1], players[0]) # Switch the players to alternate who goes first\n",
    "\n",
    "            # 2.3. Play the episode\n",
    "            while not game_over:\n",
    "\n",
    "                # 2.3.1. Get the current player\n",
    "                current_player = players[0] if game.current_player == 'X' else players[1]\n",
    "\n",
    "                # 2.3.2. Act according to the player type\n",
    "                if current_player.__class__.__name__ == 'MonteCarloPlayer': \n",
    "\n",
    "                    # Get the current state representation\n",
    "                    state = self.get_hashable_state(game)\n",
    "\n",
    "                    # Make a move\n",
    "                    action = self.get_action(game, training_phase=True)\n",
    "                    game.make_move(*action)\n",
    "\n",
    "                    # Get the reward for the action\n",
    "                    reward = self.get_action_reward(game, action) #TODO: The reward could be -1 to lower the number of steps !!!\n",
    "                    reward_counter += reward\n",
    "\n",
    "                    # Store the state-action-reward tuple in the trajectory\n",
    "                    trajectory.append((state, action, reward))\n",
    "\n",
    "\n",
    "                else: # RandomPlayer\n",
    "\n",
    "                    # Make a random move\n",
    "                    current_player.make_move(game)\n",
    "\n",
    "                # 2.3.3. Check if the game is over\n",
    "                winner = game.check_winner()\n",
    "                if winner is not None or game.is_draw():\n",
    "\n",
    "                    # Get the final reward\n",
    "                    end_reward = self.get_end_reward(game, players, winner)\n",
    "                    reward_counter += end_reward - reward # Delete the last partial reward from the counter\n",
    "\n",
    "                    # Update the last state-action pair in the trajectory with the final reward\n",
    "                    trajectory[-1] = (trajectory[-1][0], trajectory[-1][1], end_reward)\n",
    "\n",
    "                    game_over = True\n",
    "\n",
    "                # 2.3.4. Switch the player\n",
    "                game.switch_player()\n",
    "\n",
    "\n",
    "            # ..EPIOSDE OVER..............................................\n",
    "\n",
    "            # 2.4. Update the Q-values\n",
    "            self.update_q_values(trajectory)\n",
    "\n",
    "            # 2.5. Update the exploration rate\n",
    "            self.exploration_rate *= self.exploration_decay\n",
    "            if self.exploration_rate < 0.1: # Minimum exploration rate\n",
    "                self.exploration_rate = 0.1\n",
    "                "
   ]
  },
  {
   "cell_type": "code",
   "execution_count": 47,
   "metadata": {},
   "outputs": [
    {
     "name": "stderr",
     "output_type": "stream",
     "text": [
      "100%|██████████| 100/100 [00:00<00:00, 3571.29it/s]\n",
      "100%|██████████| 1000/1000 [00:08<00:00, 113.32it/s]\n"
     ]
    },
    {
     "name": "stdout",
     "output_type": "stream",
     "text": [
      "Player 1 (MonteCarloPlayer) wins: 608\n",
      "Player 2 (RandomPlayer) wins: 220\n",
      "Draws: 172\n"
     ]
    },
    {
     "name": "stderr",
     "output_type": "stream",
     "text": [
      "100%|██████████| 1000/1000 [00:08<00:00, 123.01it/s]\n",
      " 33%|███▎      | 1/3 [00:16<00:33, 17.00s/it]"
     ]
    },
    {
     "name": "stdout",
     "output_type": "stream",
     "text": [
      "Player 1 (RandomPlayer) wins: 565\n",
      "Player 2 (MonteCarloPlayer) wins: 358\n",
      "Draws: 77\n"
     ]
    },
    {
     "name": "stderr",
     "output_type": "stream",
     "text": [
      "100%|██████████| 250/250 [00:00<00:00, 5828.82it/s]\n",
      "100%|██████████| 1000/1000 [00:25<00:00, 39.30it/s]\n"
     ]
    },
    {
     "name": "stdout",
     "output_type": "stream",
     "text": [
      "Player 1 (MonteCarloPlayer) wins: 710\n",
      "Player 2 (RandomPlayer) wins: 210\n",
      "Draws: 80\n"
     ]
    },
    {
     "name": "stderr",
     "output_type": "stream",
     "text": [
      "100%|██████████| 1000/1000 [00:30<00:00, 33.24it/s]\n",
      " 67%|██████▋   | 2/3 [01:12<00:39, 39.70s/it]"
     ]
    },
    {
     "name": "stdout",
     "output_type": "stream",
     "text": [
      "Player 1 (RandomPlayer) wins: 592\n",
      "Player 2 (MonteCarloPlayer) wins: 362\n",
      "Draws: 46\n"
     ]
    },
    {
     "name": "stderr",
     "output_type": "stream",
     "text": [
      "100%|██████████| 500/500 [00:00<00:00, 6665.92it/s]\n",
      "100%|██████████| 1000/1000 [00:58<00:00, 17.18it/s]\n"
     ]
    },
    {
     "name": "stdout",
     "output_type": "stream",
     "text": [
      "Player 1 (MonteCarloPlayer) wins: 740\n",
      "Player 2 (RandomPlayer) wins: 177\n",
      "Draws: 83\n"
     ]
    },
    {
     "name": "stderr",
     "output_type": "stream",
     "text": [
      "100%|██████████| 1000/1000 [01:03<00:00, 15.68it/s]\n",
      "100%|██████████| 3/3 [03:14<00:00, 64.88s/it]\n"
     ]
    },
    {
     "name": "stdout",
     "output_type": "stream",
     "text": [
      "Player 1 (RandomPlayer) wins: 412\n",
      "Player 2 (MonteCarloPlayer) wins: 531\n",
      "Draws: 57\n"
     ]
    },
    {
     "data": {
      "image/png": "[encoded data removed]",
      "text/plain": [
       "<Figure size 640x480 with 1 Axes>"
      ]
     },
     "metadata": {},
     "output_type": "display_data"
    },
    {
     "data": {
      "image/png": "[encoded data removed]",
      "text/plain": [
       "<Figure size 640x480 with 1 Axes>"
      ]
     },
     "metadata": {},
     "output_type": "display_data"
    }
   ],
   "source": [
    "mc_player = MonteCarloPlayer()\n",
    "opponent = RandomPlayer()  # or another MonteCarloPlayer\n",
    "\n",
    "training_steps = [100, 250, 500]#, 1000, 2500]#, 5000]#, 7500, 10000, 25000, 50000]\n",
    "training_results_move_first = []\n",
    "training_results_move_second = []\n",
    "\n",
    "for steps in tqdm(training_steps):\n",
    "    \n",
    "    # 1. Train the RL-agent against the opponent for a given number of steps\n",
    "    mc_player.train(opponent, steps)\n",
    "\n",
    "    # 2. Play 1000 games against the opponent making the first move\n",
    "    results = collect_results(mc_player, opponent, n_games=1000, verbose=False)\n",
    "    training_results_move_first.append(results)\n",
    "\n",
    "    # 3. Play 1000 games against the opponent making the second move\n",
    "    results = collect_results(opponent, mc_player, n_games=1000, verbose=False)\n",
    "    training_results_move_second.append(results)\n",
    "\n",
    "# 4. Plot the results\n",
    "def plot_results(training_results, move_first=True):\n",
    "    plt.title(f\"Monte Carlo Training Results ({'MC' if move_first else 'Random'} Player Moves First)\")\n",
    "    plt.plot(training_steps, [res['X'] for res in training_results], label=('MC' if move_first else 'Random') + ' Player Wins', color='red')\n",
    "    plt.plot(training_steps, [res['O'] for res in training_results], label=('MC' if move_first else 'Random') + ' Player Losses', color='black')\n",
    "    plt.plot(training_steps, [res['draw'] for res in training_results], label=\"Draws\", color='gray')\n",
    "    plt.legend()\n",
    "    plt.xlabel(\"Training Steps\")\n",
    "    plt.ylabel(\"Number of Wins\")\n",
    "    plt.show()\n",
    "\n",
    "plot_results(training_results_move_first, move_first=True)\n",
    "plot_results(training_results_move_second, move_first=False)"
   ]
  }
 ],
 "metadata": {
  "kernelspec": {
   "display_name": "Python 3",
   "language": "python",
   "name": "python3"
  },
  "language_info": {
   "codemirror_mode": {
    "name": "ipython",
    "version": 3
   },
   "file_extension": ".py",
   "mimetype": "text/x-python",
   "name": "python",
   "nbconvert_exporter": "python",
   "pygments_lexer": "ipython3",
   "version": "3.11.7"
  }
 },
 "nbformat": 4,
 "nbformat_minor": 2
}
