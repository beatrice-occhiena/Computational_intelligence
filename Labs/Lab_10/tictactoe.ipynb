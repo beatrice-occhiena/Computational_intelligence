{
 "cells": [
  {
   "cell_type": "markdown",
   "metadata": {},
   "source": [
    "**Author:** Beatrice Occhiena s314971. See [`LICENSE`](https://github.com/beatrice-occhiena/Computational_intelligence/blob/main/LICENSE) for details.\n",
    "- institutional email: `S314971@studenti.polito.it`\n",
    "- personal email: `beatrice.occhiena@live.it`\n",
    "- github repository: [https://github.com/beatrice-occhiena/Computational_intelligence.git](https://github.com/beatrice-occhiena/Computational_intelligence.git)\n",
    "\n",
    "**Resources:** These notes are the result of additional research and analysis of the lecture material presented by Professor Giovanni Squillero for the Computational Intelligence course during the academic year 2023-2024 @ Politecnico di Torino. They are intended to be my attempt to make a personal contribution and to rework the topics covered in the following resources.\n",
    "- [https://github.com/squillero/computational-intelligence](https://github.com/squillero/computational-intelligence)\n",
    "- Stuart Russel, Peter Norvig, *Artificial Intelligence: A Modern Approach* [3th edition]\n",
    "- Richard S. Sutton, Andrew G. Barto, *Reinforcement Learning: An Introduction* [2nd Edition]\n",
    "\n",
    ".\n",
    "\n",
    "."
   ]
  },
  {
   "cell_type": "markdown",
   "metadata": {},
   "source": [
    "# Lab 10: Reinforcement Learning\n",
    "Use reinforcement learning to devise a tic-tac-toe player. "
   ]
  },
  {
   "cell_type": "code",
   "execution_count": 70,
   "metadata": {},
   "outputs": [],
   "source": [
    "from itertools import combinations\n",
    "from collections import namedtuple, defaultdict\n",
    "from random import choice\n",
    "from copy import deepcopy\n",
    "\n",
    "from tqdm.auto import tqdm\n",
    "import numpy as np"
   ]
  },
  {
   "cell_type": "markdown",
   "metadata": {},
   "source": [
    "## Game Class"
   ]
  },
  {
   "cell_type": "code",
   "execution_count": 71,
   "metadata": {},
   "outputs": [],
   "source": [
    "class TicTacToe:\n",
    "  def __init__(self, starting_player='X'):\n",
    "    # Initialize the empty board\n",
    "    self.board = [[' ' for _ in range(3)] for _ in range(3)]\n",
    "    # Define magic square to check for a winner\n",
    "    self.magic_square = [[2, 7, 6], [9, 5, 1], [4, 3, 8]]\n",
    "    # Define player symbols\n",
    "    self.players = ['X', 'O']\n",
    "    # Initialize the current player\n",
    "    self.current_player = starting_player\n",
    "\n",
    "  def print_board(self):\n",
    "    \"\"\"Display the current state of the board\"\"\"\n",
    "    emoji_map = {'X': '❌', 'O': '🔘', ' ': '⬜'}\n",
    "    for row in self.board:\n",
    "      print(''.join([emoji_map[space] for space in row]))\n",
    "    print()\n",
    "\n",
    "  def make_move(self, row, col):\n",
    "    \"\"\"Make a move on the board if the space is empty\"\"\"\n",
    "    if self.board[row][col] == ' ' and 0 <= row <= 2 and 0 <= col <= 2:\n",
    "      self.board[row][col] = self.current_player\n",
    "      return True # Move was successful\n",
    "    else:\n",
    "      print(\"Invalid move!\")\n",
    "      return False # Move was unsuccessful\n",
    "    \n",
    "  def switch_player(self):\n",
    "    \"\"\"Switch the current player\"\"\"\n",
    "    self.current_player = self.players[(self.players.index(self.current_player) + 1) % 2]\n",
    "\n",
    "  def check_winner(self):\n",
    "    \"\"\"\n",
    "    Check if there is a winner on the board.\n",
    "    - Returns 'X' if X wins\n",
    "    - Returns 'O' if O wins\n",
    "    - Returns None if there is no winner\n",
    "    \"\"\"\n",
    "    # 1. Convert board positions to magic square values\n",
    "    x_positions = [self.magic_square[row][col] for row in range(3) for col in range(3) if self.board[row][col] == 'X']\n",
    "    o_positions = [self.magic_square[row][col] for row in range(3) for col in range(3) if self.board[row][col] == 'O']\n",
    "    \n",
    "    # 2. Check if any combination of 3 positions sums to 15\n",
    "    if any(sum(comb) == 15 for comb in combinations(x_positions, 3)):\n",
    "      return 'X'\n",
    "    elif any(sum(comb) == 15 for comb in combinations(o_positions, 3)):\n",
    "      return 'O'\n",
    "\n",
    "    return None\n",
    "  \n",
    "  def is_draw(self):\n",
    "    \"\"\"Check if the game is a draw\"\"\"\n",
    "    return all([space != ' ' for row in self.board for space in row])"
   ]
  },
  {
   "cell_type": "markdown",
   "metadata": {},
   "source": [
    "## Player Class"
   ]
  },
  {
   "cell_type": "code",
   "execution_count": 72,
   "metadata": {},
   "outputs": [],
   "source": [
    "class Player:\n",
    "  def __init__(self):\n",
    "    pass\n",
    "\n",
    "  def make_move(self, game: TicTacToe):\n",
    "    \"\"\"Make a move in the given TicTacToe game instance\"\"\"\n",
    "    raise NotImplementedError(\"This method should be implemented by subclasses.\")"
   ]
  },
  {
   "cell_type": "code",
   "execution_count": 73,
   "metadata": {},
   "outputs": [],
   "source": [
    "class HumanPlayer(Player):\n",
    "  \n",
    "  def make_move(self, game: TicTacToe):\n",
    "    \"\"\"Get a move from the user\"\"\"\n",
    "\n",
    "    # 1. Print the board\n",
    "    print(\"Current board:\")\n",
    "    game.print_board()\n",
    "\n",
    "    # 2. Get a valid move from the user\n",
    "    valid_move = False\n",
    "    while not valid_move:\n",
    "      try:\n",
    "        row = int(input(\"Enter row (0-2): \"))\n",
    "        col = int(input(\"Enter column (0-2): \"))\n",
    "        valid_move = game.make_move(row, col)\n",
    "        if not valid_move:\n",
    "          print(\"Invalid move, try again.\")\n",
    "      except ValueError:\n",
    "        print(\"Invalid input. Please enter numbers only.\")"
   ]
  },
  {
   "cell_type": "code",
   "execution_count": 74,
   "metadata": {},
   "outputs": [],
   "source": [
    "class RandomPlayer(Player):\n",
    "    \n",
    "  def make_move(self, game: TicTacToe):\n",
    "    \"\"\"Make a random move on the board\"\"\"\n",
    "    # 1. Get all empty spaces\n",
    "    empty_spaces = [(row, col) for row in range(3) for col in range(3) if game.board[row][col] == ' ']\n",
    "    # 2. Choose a random empty space\n",
    "    row, col = choice(empty_spaces)\n",
    "    # 3. Make the move\n",
    "    game.make_move(row, col)"
   ]
  },
  {
   "cell_type": "markdown",
   "metadata": {},
   "source": [
    "## Match Implementation"
   ]
  },
  {
   "cell_type": "code",
   "execution_count": 75,
   "metadata": {},
   "outputs": [],
   "source": [
    "def play_game(game: TicTacToe, player1: Player, player2: Player, verbose=False) -> str:\n",
    "  \n",
    "  \"\"\"\n",
    "    Play a game of TicTacToe between two players\n",
    "    - player1 as 'X': The first player to make a move\n",
    "    - player2 as 'O': The second player to make a move\n",
    "    \n",
    "    Returns the winner of the game\n",
    "  \"\"\"\n",
    "  \n",
    "  # 1. Initialize the game\n",
    "  game_over = False\n",
    "  winner = None\n",
    "\n",
    "  # 2. Play the game\n",
    "  while not game_over:\n",
    "    # 2.1. Get the current player\n",
    "    current_player = player1 if game.current_player == 'X' else player2\n",
    "\n",
    "    # 2.2. VERBOSE: Print the board\n",
    "    if verbose:\n",
    "      print(f\"Current player: {game.current_player}\")\n",
    "      game.print_board()\n",
    "\n",
    "    # 2.3. Make a move\n",
    "    current_player.make_move(game)\n",
    "\n",
    "    # 2.4. Check if the game is over\n",
    "    winner = game.check_winner()\n",
    "    if winner is not None:\n",
    "      game_over = True\n",
    "    elif game.is_draw():\n",
    "      game_over = True\n",
    "\n",
    "    # 2.5. Switch the player\n",
    "    game.switch_player()\n",
    "\n",
    "  # 3. VERBOSE: Print the final board\n",
    "  if verbose:\n",
    "    print(\"Final board:\")\n",
    "    game.print_board()\n",
    "\n",
    "  # 4. VERBOSE: Print the winner\n",
    "  if winner is None:\n",
    "    if verbose:\n",
    "      print(\"It's a draw!\")\n",
    "    return 'draw'\n",
    "  else:\n",
    "    if verbose:\n",
    "      print(f\"{winner} wins!\")\n",
    "    return winner"
   ]
  },
  {
   "cell_type": "code",
   "execution_count": 76,
   "metadata": {},
   "outputs": [],
   "source": [
    "def collect_results(player1: Player, player2: Player, n_games=1000, verbose=False):\n",
    "  \"\"\"\n",
    "    Play n_games of TicTacToe between two players and return the results\n",
    "    - player1 as 'X': The first player to make a move\n",
    "    - player2 as 'O': The second player to make a move\n",
    "  \"\"\"\n",
    "  # 1. Initialize the results\n",
    "  results = defaultdict(int)\n",
    "\n",
    "  # 2. Play the games\n",
    "  # tqdm is a progress bar that displays the progress of the loop\n",
    "  for _ in tqdm(range(n_games)):\n",
    "    new_game = TicTacToe()\n",
    "    winner = play_game(new_game, deepcopy(player1), deepcopy(player2), verbose=verbose)\n",
    "    results[winner] += 1\n",
    "\n",
    "  # 3. Print the results\n",
    "  print(f\"Player 1 ({player1.__class__.__name__}) wins: {results['X']}\")\n",
    "  print(f\"Player 2 ({player2.__class__.__name__}) wins: {results['O']}\")\n",
    "  print(f\"Draws: {results['draw']}\")\n",
    "\n",
    "  return results"
   ]
  },
  {
   "cell_type": "markdown",
   "metadata": {},
   "source": [
    "### Example matches\n",
    "Here are some examples of matches between two random players to show how the game works."
   ]
  },
  {
   "cell_type": "code",
   "execution_count": 77,
   "metadata": {},
   "outputs": [
    {
     "name": "stdout",
     "output_type": "stream",
     "text": [
      "Current player: X\n",
      "⬜⬜⬜\n",
      "⬜⬜⬜\n",
      "⬜⬜⬜\n",
      "\n",
      "Current player: O\n",
      "⬜❌⬜\n",
      "⬜⬜⬜\n",
      "⬜⬜⬜\n",
      "\n",
      "Current player: X\n",
      "🔘❌⬜\n",
      "⬜⬜⬜\n",
      "⬜⬜⬜\n",
      "\n",
      "Current player: O\n",
      "🔘❌⬜\n",
      "⬜⬜⬜\n",
      "❌⬜⬜\n",
      "\n",
      "Current player: X\n",
      "🔘❌⬜\n",
      "⬜🔘⬜\n",
      "❌⬜⬜\n",
      "\n",
      "Current player: O\n",
      "🔘❌⬜\n",
      "⬜🔘❌\n",
      "❌⬜⬜\n",
      "\n",
      "Current player: X\n",
      "🔘❌⬜\n",
      "⬜🔘❌\n",
      "❌🔘⬜\n",
      "\n",
      "Current player: O\n",
      "🔘❌❌\n",
      "⬜🔘❌\n",
      "❌🔘⬜\n",
      "\n",
      "Final board:\n",
      "🔘❌❌\n",
      "⬜🔘❌\n",
      "❌🔘🔘\n",
      "\n",
      "O wins!\n"
     ]
    },
    {
     "name": "stderr",
     "output_type": "stream",
     "text": [
      "100%|██████████| 1000/1000 [00:00<00:00, 11425.66it/s]"
     ]
    },
    {
     "name": "stdout",
     "output_type": "stream",
     "text": [
      "Player 1 (RandomPlayer) wins: 574\n",
      "Player 2 (RandomPlayer) wins: 305\n",
      "Draws: 121\n"
     ]
    },
    {
     "name": "stderr",
     "output_type": "stream",
     "text": [
      "\n"
     ]
    },
    {
     "data": {
      "image/png": "[encoded data removed]",
      "text/plain": [
       "<Figure size 640x480 with 1 Axes>"
      ]
     },
     "metadata": {},
     "output_type": "display_data"
    }
   ],
   "source": [
    "# 1. Initialize the players\n",
    "rand_player1 = RandomPlayer()\n",
    "rand_player2 = RandomPlayer()\n",
    "\n",
    "# 2. Play one game with verbose output\n",
    "new_game = TicTacToe()\n",
    "play_game(new_game, rand_player1, rand_player2, verbose=True)\n",
    "\n",
    "# 3. Play multiple games to collect the statistics\n",
    "results = collect_results(rand_player1, rand_player2, n_games=1000, verbose=False)\n",
    "\n",
    "# 4. Plot the results\n",
    "import matplotlib.pyplot as plt\n",
    "plt.bar(results.keys(), results.values(), color=['red', 'black', 'gray'])\n",
    "plt.show()"
   ]
  }
 ],
 "metadata": {
  "kernelspec": {
   "display_name": "Python 3",
   "language": "python",
   "name": "python3"
  },
  "language_info": {
   "codemirror_mode": {
    "name": "ipython",
    "version": 3
   },
   "file_extension": ".py",
   "mimetype": "text/x-python",
   "name": "python",
   "nbconvert_exporter": "python",
   "pygments_lexer": "ipython3",
   "version": "3.11.7"
  }
 },
 "nbformat": 4,
 "nbformat_minor": 2
}
