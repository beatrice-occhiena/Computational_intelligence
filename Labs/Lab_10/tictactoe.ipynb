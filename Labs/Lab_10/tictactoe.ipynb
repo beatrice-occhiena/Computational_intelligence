{
 "cells": [
  {
   "cell_type": "markdown",
   "metadata": {},
   "source": [
    "**Author:** Beatrice Occhiena s314971. See [`LICENSE`](https://github.com/beatrice-occhiena/Computational_intelligence/blob/main/LICENSE) for details.\n",
    "- institutional email: `S314971@studenti.polito.it`\n",
    "- personal email: `beatrice.occhiena@live.it`\n",
    "- github repository: [https://github.com/beatrice-occhiena/Computational_intelligence.git](https://github.com/beatrice-occhiena/Computational_intelligence.git)\n",
    "\n",
    "**Resources:** These notes are the result of additional research and analysis of the lecture material presented by Professor Giovanni Squillero for the Computational Intelligence course during the academic year 2023-2024 @ Politecnico di Torino. They are intended to be my attempt to make a personal contribution and to rework the topics covered in the following resources.\n",
    "- [https://github.com/squillero/computational-intelligence](https://github.com/squillero/computational-intelligence)\n",
    "- Stuart Russel, Peter Norvig, *Artificial Intelligence: A Modern Approach* [3th edition]\n",
    "- Richard S. Sutton, Andrew G. Barto, *Reinforcement Learning: An Introduction* [2nd Edition]\n",
    "\n",
    ".\n",
    "\n",
    "."
   ]
  },
  {
   "cell_type": "markdown",
   "metadata": {},
   "source": [
    "# Lab 10: Reinforcement Learning\n",
    "Use reinforcement learning to devise a tic-tac-toe player. "
   ]
  },
  {
   "cell_type": "code",
   "execution_count": null,
   "metadata": {},
   "outputs": [],
   "source": [
    "from itertools import combinations\n",
    "from collections import namedtuple, defaultdict\n",
    "from random import choice\n",
    "from copy import deepcopy\n",
    "\n",
    "from tqdm.auto import tqdm\n",
    "import numpy as np"
   ]
  },
  {
   "cell_type": "code",
   "execution_count": null,
   "metadata": {},
   "outputs": [],
   "source": [
    "class TicTacToe:\n",
    "  def __init__(self, starting_player='X'):\n",
    "    # Initialize the empty board\n",
    "    self.board = [[' ' for _ in range(3)] for _ in range(3)]\n",
    "    # Define player symbols\n",
    "    self.players = ['X', 'O']\n",
    "    # Initialize the current player\n",
    "    self.current_player = starting_player\n",
    "\n",
    "  def print_board(self):\n",
    "    # Display the current state of the board\n",
    "      for row in self.board:\n",
    "        print(\"|\".join(row))\n",
    "        print(\"-----\")\n",
    "\n",
    "  def make_move(self, row, col):\n",
    "    # Make a move on the board if the space is empty\n",
    "    if self.board[row][col] == ' ' and 0 <= row <= 2 and 0 <= col <= 2:\n",
    "      self.board[row][col] = self.current_player\n",
    "      return True # Move was successful\n",
    "    else:\n",
    "      print(\"Invalid move!\")\n",
    "      return False # Move was unsuccessful\n",
    "    \n",
    "  def switch_player(self):\n",
    "    # Switch the current player\n",
    "    self.current_player = self.players[(self.players.index(self.current_player) + 1) % 2]\n",
    "\n",
    "  def check_winner(self):\n",
    "    \"\"\"\n",
    "    Check if there is a winner on the board.\n",
    "    - Returns 'X' if X wins\n",
    "    - Returns 'O' if O wins\n",
    "    - Returns None if there is no winner\n",
    "    \"\"\"\n",
    "    # Check rows\n",
    "    for row in self.board:\n",
    "      if row[0] == row[1] == row[2] != ' ':\n",
    "        return row[0]\n",
    "    # Check columns\n",
    "    for col in range(3):\n",
    "      if self.board[0][col] == self.board[1][col] == self.board[2][col] != ' ':\n",
    "        return self.board[0][col]\n",
    "    # Check diagonals\n",
    "    if self.board[0][0] == self.board[1][1] == self.board[2][2] != ' ':\n",
    "      return self.board[0][0]\n",
    "    if self.board[0][2] == self.board[1][1] == self.board[2][0] != ' ':\n",
    "      return self.board[0][2]\n",
    "    # No winner\n",
    "    return None\n",
    "  \n",
    "  def is_draw(self):\n",
    "    # Check if the game is a draw\n",
    "    return all([space != ' ' for row in self.board for space in row])"
   ]
  },
  {
   "cell_type": "code",
   "execution_count": null,
   "metadata": {},
   "outputs": [],
   "source": []
  }
 ],
 "metadata": {
  "language_info": {
   "name": "python"
  }
 },
 "nbformat": 4,
 "nbformat_minor": 2
}
