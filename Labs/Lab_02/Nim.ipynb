{
 "cells": [
  {
   "cell_type": "markdown",
   "metadata": {},
   "source": [
    "**Author:** Beatrice Occhiena s314971. See [`LICENSE`](https://github.com/beatrice-occhiena/Computational_intelligence/blob/main/LICENSE) for details.\n",
    "- institutional email: `S314971@studenti.polito.it`\n",
    "- personal email: `beatrice.occhiena@live.it`\n",
    "- github repository: [https://github.com/beatrice-occhiena/Computational_intelligence.git](https://github.com/beatrice-occhiena/Computational_intelligence.git)\n",
    "\n",
    "**Resources:** These notes are the result of additional research and analysis of the lecture material presented by Professor Giovanni Squillero for the Computational Intelligence course during the academic year 2023-2024 @ Politecnico di Torino. They are intended to be my attempt to make a personal contribution and to rework the topics covered in the following resources.\n",
    "- [https://github.com/squillero/computational-intelligence](https://github.com/squillero/computational-intelligence)\n",
    "- Stuart Russel, Peter Norvig, *Artificial Intelligence: A Modern Approach* [3th edition]"
   ]
  },
  {
   "cell_type": "markdown",
   "metadata": {},
   "source": [
    "# Lab 2: Nim game\n",
    "\n",
    "The game of Nim is a well-known **combinatorial misère game** in which we have a number of objects (say coins 🪙 in this case) arranged in different rows. In each turn, a player can remove one or more objects from a single row and the player who takes the last object loses. The game is usually played with a number of rows and a maximum number of objects that can be removed in a turn. \n",
    "\n",
    "| Row | Objects |\n",
    "| --- | --- |\n",
    "| 0 | 🪙 |\n",
    "| 1 | 🪙 🪙 🪙 |\n",
    "| 2 | 🪙 🪙 🪙 🪙 🪙 |\n",
    "\n",
    "\n",
    "### Task\n",
    "\n",
    "Our goal is to write an agent able to play Nim with an arbitrary number of rows and an upper bound $k$ on the number of objects that can be removed in a turn. Consider these types of agents:\n",
    "1. An agent using fixed rules based on *nim-sum* (i.e., an *expert system*)\n",
    "2. An agent using evolved rules using ES\n",
    "\n",
    "### Instructions\n",
    "* Create the directory `lab2` inside your personal course repository for the course \n",
    "* Put a `README.md` and your solution (all the files, code and auxiliary data if needed)\n"
   ]
  },
  {
   "cell_type": "code",
   "execution_count": 1,
   "metadata": {},
   "outputs": [],
   "source": [
    "import logging\n",
    "from pprint import pprint, pformat\n",
    "from collections import namedtuple\n",
    "import random\n",
    "from copy import deepcopy\n",
    "import numpy as np"
   ]
  },
  {
   "cell_type": "markdown",
   "metadata": {},
   "source": [
    "## Nim class\n",
    "First of all, we need to create a class that represents the game of Nim. This class will be used by the agents to play the game. Its attributes are:\n",
    "- `rows`: the number of rows of the game\n",
    "- `k`: the maximum number of objects that can be removed in a turn\n",
    "\n",
    "Each move is represented by the tuple **Nimply** = `(row, num_objects)` and it is applied to the game by the method `nimming`."
   ]
  },
  {
   "cell_type": "code",
   "execution_count": null,
   "metadata": {},
   "outputs": [],
   "source": [
    "# Define a named tuple to represent a move\n",
    "Nimply = namedtuple(\"Nimply\", \"row, num_objects\")\n",
    "\n",
    "class Nim:\n",
    "    def __init__(self, num_rows: int, k: int = None) -> None:\n",
    "        \"\"\" Initialize the Nim game with num_rows, each row has 2i+1 objects \"\"\"\n",
    "        self._rows = [i * 2 + 1 for i in range(num_rows)]\n",
    "        self._k = k\n",
    "\n",
    "    def __bool__(self):\n",
    "        \"\"\" Return True if the game is still on-going \"\"\"\n",
    "        return sum(self._rows) > 0\n",
    "\n",
    "    def __str__(self):\n",
    "        \"\"\" Return a string representation of the game state \"\"\"\n",
    "        str = \"\"\n",
    "        for i, row in enumerate(self._rows):\n",
    "            str += f\"Row {i}: \" + \"🪙\" * row + \"\\n\"\n",
    "        return str\n",
    "\n",
    "    @property\n",
    "    def rows(self) -> tuple:\n",
    "        return tuple(self._rows)\n",
    "\n",
    "    def nimming(self, ply: Nimply) -> None:\n",
    "        \"\"\" Apply the move and update the game state \"\"\"\n",
    "        row, num_objects = ply\n",
    "        assert self._rows[row] >= num_objects\n",
    "        assert self._k is None or num_objects <= self._k\n",
    "        self._rows[row] -= num_objects"
   ]
  },
  {
   "cell_type": "markdown",
   "metadata": {},
   "source": [
    "### Nim-sum\n",
    "At any state of the game, we can define the **nim-sum** as the cumulative XOR value of the number of coins in each row. \n",
    "\n",
    "| Row | Objects | Binary |\n",
    "| --- | --- | --- |\n",
    "| 0 | 🪙 | 001 |\n",
    "| 1 | 🪙 🪙 🪙 | 011 |\n",
    "| 2 | 🪙 🪙 🪙 🪙 🪙 | 111 |\n",
    "\n",
    "`nim-sum` = 001 XOR 011 XOR 111 = 101 = 5\n",
    "\n",
    "##### Winning strategy\n",
    "If the nim-sum is non-zero and the player to move is playing optimally, then he's guaranteed to win. \n",
    "- `nim-sum` = 0 $\\implies$ losing position\n",
    "- `nim-sum` != 0 $\\implies$ winning position\n",
    "\n",
    "> Therefore, the optimal strategy is to always leave the nim-sum equal to zero for the opponent.\n",
    "\n",
    "e.g. Nimply = (2, 3) applied to the previous game\n",
    "\n",
    "| Row | Objects | Binary |\n",
    "| --- | --- | --- |\n",
    "| 0 | 🪙 | 001 |\n",
    "| 1 | 🪙 🪙 🪙 | 011 |\n",
    "| 2 | 🪙 🪙 | 010 |\n",
    "\n",
    "`nim-sum` = 001 XOR 011 XOR 010 = 000 = 0\n",
    "\n",
    "> For any state with `nim-sum != 0` there could be multiple optimal moves, but we just need to find one to be sure to win. \n",
    "\n",
    "I implemented the following algorithm:\n",
    "1. Compute the `nim-sum` of the current state\n",
    "2. Find a row such that `nim-sum` XOR `num-objects` < `num-objects` (i.e. there are enough objects to remove to make the `nim-sum` equal to zero)\n",
    "3. Return the Nimply = (row, `num-objects` - (`nim-sum` XOR `num-objects`))"
   ]
  },
  {
   "cell_type": "code",
   "execution_count": null,
   "metadata": {},
   "outputs": [],
   "source": [
    "def nim_sum(state: Nim) -> int:\n",
    "\n",
    "    # Convert the number of objects in each row to binary representation\n",
    "    tmp = np.array([tuple(int(x) for x in f\"{c:032b}\") for c in state.rows])\n",
    "\n",
    "    # Perform bitwise XOR operation along the columns (axis=0)\n",
    "    xor = tmp.sum(axis=0) % 2\n",
    "\n",
    "    # Convert the binary representation back to integer\n",
    "    return int(\"\".join(str(_) for _ in xor), base=2)\n",
    "\n",
    "\n",
    "def optimal_move(state: Nim) -> Nimply:\n",
    "    \"\"\" Return the optimal move for the current state \"\"\"\n",
    "    \n",
    "    # Compute the nim sum of the current state\n",
    "    curr_nim_sum = nim_sum(state)\n",
    "\n",
    "    # If the nim sum is 0, we are in a losing state :/\n",
    "    # => Find the first non-empty row and remove 1 object\n",
    "    #    We want the game to last as long as possible, in the hope that the opponent makes a mistake\n",
    "    if curr_nim_sum == 0:\n",
    "        for row, num_objects in enumerate(state.rows):\n",
    "            if num_objects > 0:\n",
    "                return Nimply(row, 1)\n",
    "    \n",
    "    # Otherwise, we find a row and a value that will make the nim sum 0\n",
    "    # And the win is guaranteed! ;)\n",
    "    for row, num_objects in enumerate(state.rows):\n",
    "        xor_value = curr_nim_sum ^ num_objects\n",
    "        if xor_value < num_objects:\n",
    "            return Nimply(row, num_objects - xor_value)\n",
    "\n",
    "    # If we reach here, something is wrong :'(\n",
    "    raise ValueError(\"No valid move found.\")\n"
   ]
  },
  {
   "cell_type": "markdown",
   "metadata": {},
   "source": [
    "## Agent 1: expert system"
   ]
  }
 ],
 "metadata": {
  "kernelspec": {
   "display_name": "Python 3",
   "language": "python",
   "name": "python3"
  },
  "language_info": {
   "codemirror_mode": {
    "name": "ipython",
    "version": 3
   },
   "file_extension": ".py",
   "mimetype": "text/x-python",
   "name": "python",
   "nbconvert_exporter": "python",
   "pygments_lexer": "ipython3",
   "version": "3.11.6"
  }
 },
 "nbformat": 4,
 "nbformat_minor": 2
}
