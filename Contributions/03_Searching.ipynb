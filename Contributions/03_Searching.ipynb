{
 "cells": [
  {
   "cell_type": "markdown",
   "metadata": {},
   "source": [
    "**Author:** Beatrice Occhiena s314971. See [`LICENSE`](https://github.com/beatrice-occhiena/Computational_intelligence/blob/main/LICENSE) for details.\n",
    "- institutional email: `S314971@studenti.polito.it`\n",
    "- personal email: `beatrice.occhiena@live.it`\n",
    "- github repository: [https://github.com/beatrice-occhiena/Computational_intelligence.git](https://github.com/beatrice-occhiena/Computational_intelligence.git)\n",
    "\n",
    "**Resources:** These notes are the result of additional research and analysis of the lecture material presented by Professor Giovanni Squillero for the Computational Intelligence course during the academic year 2023-2024 @ Politecnico di Torino. They are intended to be my attempt to make a personal contribution and to rework the topics covered in the following resources.\n",
    "- [https://github.com/squillero/computational-intelligence](https://github.com/squillero/computational-intelligence)\n",
    "- Stuart Russel, Peter Norvig, *Artificial Intelligence: A Modern Approach* [3th edition]\n",
    "\n",
    ".\n",
    "\n",
    ".\n"
   ]
  },
  {
   "cell_type": "markdown",
   "metadata": {},
   "source": [
    "# Problem Solving by Searching\n",
    "---"
   ]
  },
  {
   "cell_type": "markdown",
   "metadata": {},
   "source": [
    "## Why search?"
   ]
  },
  {
   "cell_type": "markdown",
   "metadata": {},
   "source": [
    "> Search techniques are utilized in problem-solving scenarios when there is a clear, predefined goal that needs to be achieved, and the problem can be logically broken down into different states and actions.\n",
    "\n",
    "Search algorithms are essential for tackling problems in various domains and are especially useful in cases when:\n",
    "- The problem's **complexity** is beyond straightforward mathematical modeling or doesn't have a known analytical solution.\n",
    "- We **lack prior knowledge** of the exact sequence of actions leading to a solution.\n",
    "- We intend to systematically explore a **large solution space**, requiring an examination of various paths to find the best one.\n",
    "- We seek **optimal or near-optimal solutions** in extensive search spaces.\n",
    "\n",
    "### Problem solving agent\n",
    "A problem-solving agent is a type of goal-based agent capable of determining a sequence of actions leading to a desired goal. This agent achieves this by exploring the problem's state space, which encompasses all potential states reachable from the initial state through a sequence of actions.\n",
    "\n",
    "The agent's program comprises two key components:\n",
    "- **Problem & Goal Formulation** This entails the process of deciding which actions and states to consider based on the specified goal. 🗺️🎯..\n",
    "- **Search Algorithm** This involves determining the next action to take given the current state in order to progress toward the goal. 🧭..\n",
    "\n",
    "### Conditions for solving problems by searching\n",
    "While path search algorithms can be applied to a wide range of problems, there are some conditions and considerations that make them more suitable for certain types of problems.\n",
    "\n",
    "When the task environment is\n",
    "- discrete\n",
    "- fully observable\n",
    "- deterministic\n",
    "- static\n",
    "- completelly known\n",
    "\n",
    "> In this case, the agent can be said to have `full control` of the environment, therefore it can plan ahead and choose a sequence of actions that will lead to the desired goal. The process of finding a sequence of actions is called *search*."
   ]
  },
  {
   "cell_type": "markdown",
   "metadata": {},
   "source": [
    "## Problem definition"
   ]
  },
  {
   "cell_type": "markdown",
   "metadata": {},
   "source": [
    "A problem can be formally defined by the following components:\n",
    "1. **Initial state** The state in which the agent begins. $s_0$\n",
    "2. **Set of actions** The set of actions available to the agent in each state. $\\mathcal{A}(s)=\\{a_1, a_2, \\dots, a_n\\}$\n",
    "3. **Transition model** A description of what each action does. $\\mathcal{S}(s,a)=s'$\n",
    "4. **Goal test** A function that determines whether a given state is a goal state. $\\mathcal{G}(s)$\n",
    "5. **Path cost** A function that assigns a numeric cost to each path. It is assumed that the cost of a path is the sum of the costs of its actions, i.e. the sum of each step's cost. $g(s_0, a_1, \\dots, a_n)=\\sum_{i=1}^n c(s_i, a_i, s_{i+1})$\n",
    "\n",
    "### State space\n",
    "The state space is the set of all states reachable from the initial state by any sequence of actions. It is denoted by $\\mathcal{S}$. The state space is a **directed graph**, where \n",
    "- the nodes represent `states` ⭕..\n",
    "- the edges represent `actions` ➡️..\n",
    "\n",
    "### Searching for solutions\n",
    "A solution to a problem is a sequence of actions that leads *from the initial state to a goal state*. A solution is `optimal` if it has the lowest path cost among all solutions.\n",
    "\n",
    "Depending on the way we want our search algorithm to explore the state space, we can distinguish between two types of search.\n",
    "\n",
    "##### 1 - 🌳 Tree search 🌳\n",
    "In a tree search, the search algorithm explores a search tree without considering whether it has visited a state before. It doesn't keep track of the states it has already explored.\n",
    "\n",
    "$\\implies$ different nodes can represent the same state.\n",
    "\n",
    "The initial state of the problem serves as the `root` node of the tree. As the search algorithm progresses, it `expands nodes` by considering possible actions and generating child nodes for each state that can be reached.\n",
    "- `o` `Memory usage`: It tends to use less memory because it only maintains the current tree and doesn't remember visited states.\n",
    "- `x` `Redundancy`: It may explore the same state multiple times, leading to inefficiency.\n",
    "- `x` `Un-completeness`: It may not find a solution even if one exists, due to infinite loops in a space with cycles.\n",
    "\n",
    "Tree search is typically used in cases where memory resources are limited and revisiting states isn't an issue. It's suitable for cases where the solution is guaranteed to be found quickly or where the state space doesn't contain cycles.\n",
    "  \n",
    "##### 2 - 📊 Graph search 📊\n",
    "In graph search, the search algorithm keeps track of the states it has already explored, ensuring that it doesn't revisit them. This is crucial for practical problem-solving because revisiting states can be inefficient and may lead to infinite loops.\n",
    "\n",
    "$\\implies$ nodes represent unique states.\n",
    "\n",
    "- `x` `Memory usage`: It tends to use more memory because it needs an additional data structure to keep track of visited states.\n",
    "- `o` `Efficient exploration`: In graph search, the exploration extends across the entire state space, keeping track of visited states to avoid revisiting them. It maintains a more comprehensive record of the explored states.\n",
    "- `o` `Completeness`: It is guaranteed to find a solution if one exists, as it doesn't get stuck in infinite loops.\n",
    "\n",
    "Graph search is used when memory resources are more abundant, and the state space may contain cycles or when it's essential to guarantee that a solution, if it exists, will be found."
   ]
  },
  {
   "cell_type": "markdown",
   "metadata": {},
   "source": [
    "## Data structures & common functions"
   ]
  },
  {
   "cell_type": "markdown",
   "metadata": {},
   "source": [
    "## Data structures for search\n",
    "\n",
    "\n",
    "\n",
    "So, what is the key difference between tree and graph search? The answer lies in the data structure used to store the nodes.\n",
    "\n",
    "- frontier\n",
    "- explored set\n",
    "    \n",
    "\n",
    "State Space Representation:\n",
    "\n",
    "Graph: In graph search, you explicitly represent the state space as a graph data structure. Nodes are the states, and edges are the actions that transition between states.\n",
    "Tree: In tree search, you represent the state space as a tree, which is an abstract structure without duplicated states. It's created as the search progresses from the initial state.\n",
    "\n",
    "Frontier (Open Set):\n",
    "\n",
    "Queue (FIFO) for Breadth-First Search (BFS): In BFS, a queue is used to store nodes in the order they were added. The first node added (the root) is the first to be expanded.\n",
    "Stack (LIFO) for Depth-First Search (DFS): In DFS, a stack is employed to store nodes. The most recently added node is expanded first.\n",
    "\n",
    "Explored Set (Closed Set):\n",
    "\n",
    "Set or List: To keep track of nodes that have already been explored to avoid revisiting them. These data structures help prevent loops in the search.\n",
    "    - frontier as separator between explored and unexplored states\n",
    "\n",
    "Actions ??????\n",
    "\n",
    "Path and Node Representation: ????\n",
    "\n",
    "Node Data Structure: Each node in the search tree or graph typically contains information such as the current state, the action taken to reach that state, the parent node, and the cost associated with reaching that state.\n",
    "Path: A list or stack to store the path from the initial state to the current state during the search."
   ]
  },
  {
   "cell_type": "markdown",
   "metadata": {},
   "source": [
    "## Search strategies"
   ]
  },
  {
   "cell_type": "markdown",
   "metadata": {},
   "source": [
    "### Measuring search performance"
   ]
  },
  {
   "cell_type": "markdown",
   "metadata": {},
   "source": []
  },
  {
   "cell_type": "markdown",
   "metadata": {},
   "source": [
    "### Uninformed search strategies"
   ]
  },
  {
   "cell_type": "markdown",
   "metadata": {},
   "source": []
  },
  {
   "cell_type": "markdown",
   "metadata": {},
   "source": [
    "#### Breadth-first search (BFS)"
   ]
  },
  {
   "cell_type": "markdown",
   "metadata": {},
   "source": [
    "#### Depth-first search (DFS)"
   ]
  },
  {
   "cell_type": "markdown",
   "metadata": {},
   "source": [
    "#### Uniform-cost search (UCS)"
   ]
  },
  {
   "cell_type": "markdown",
   "metadata": {},
   "source": [
    "#### Depth-limited search (DLS)"
   ]
  },
  {
   "cell_type": "markdown",
   "metadata": {},
   "source": [
    "#### Iterative deepening search (IDS)"
   ]
  },
  {
   "cell_type": "markdown",
   "metadata": {},
   "source": [
    "#### Bidirectional search (BDS)"
   ]
  },
  {
   "cell_type": "markdown",
   "metadata": {},
   "source": [
    "#### Beam search"
   ]
  },
  {
   "cell_type": "markdown",
   "metadata": {},
   "source": [
    "### Informed search strategies"
   ]
  },
  {
   "cell_type": "markdown",
   "metadata": {},
   "source": [
    "#### Greedy best-first search (GBFS)"
   ]
  },
  {
   "cell_type": "markdown",
   "metadata": {},
   "source": [
    "#### A* search"
   ]
  },
  {
   "cell_type": "markdown",
   "metadata": {},
   "source": []
  },
  {
   "cell_type": "markdown",
   "metadata": {},
   "source": [
    "\n",
    "- search tree vs search graph: data structures\n",
    "  => treat states and actions as **atomic** entities\n",
    "\n",
    "## Search strategies\n",
    "Their performance is measured in terms of:\n",
    "- Completeness: is the algorithm guaranteed to find a solution when there is one?\n",
    "- Optimality: does the strategy find the best solution?\n",
    "- Time complexity: how long does it take to find a solution?\n",
    "- Space complexity: how much memory is needed to perform the search?\n",
    "Complexity depends on:\n",
    "- b: maximum branching factor of the search tree\n",
    "- d: depth of the least-cost solution\n",
    "\n",
    "### Uninformed search strategies\n",
    "- Breadth-first search\n",
    "- Uniform-cost search\n",
    "- Depth-first search\n",
    "- Depth-limited search\n",
    "- Iterative deepening search\n",
    "- Bidirectional search\n",
    "- Beam search\n",
    "\n",
    "### Informed search strategies\n",
    "- Greedy best-first search\n",
    "- A* search\n",
    "- Recursive best-first search (RBFS)\n",
    "- Simplified Memory-bounded A* search (SMA*)\n",
    "\n",
    "\n",
    "\n"
   ]
  }
 ],
 "metadata": {
  "language_info": {
   "name": "python"
  }
 },
 "nbformat": 4,
 "nbformat_minor": 2
}
