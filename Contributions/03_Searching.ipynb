{
 "cells": [
  {
   "cell_type": "markdown",
   "metadata": {},
   "source": [
    "**Author:** Beatrice Occhiena s314971. See [`LICENSE`](https://github.com/beatrice-occhiena/Computational_intelligence/blob/main/LICENSE) for details.\n",
    "- institutional email: `S314971@studenti.polito.it`\n",
    "- personal email: `beatrice.occhiena@live.it`\n",
    "- github repository: [https://github.com/beatrice-occhiena/Computational_intelligence.git](https://github.com/beatrice-occhiena/Computational_intelligence.git)\n",
    "\n",
    "**Resources:** These notes are the result of additional research and analysis of the lecture material presented by Professor Giovanni Squillero for the Computational Intelligence course during the academic year 2023-2024 @ Politecnico di Torino. They are intended to be my attempt to make a personal contribution and to rework the topics covered in the following resources.\n",
    "- [https://github.com/squillero/computational-intelligence](https://github.com/squillero/computational-intelligence)\n",
    "- Stuart Russel, Peter Norvig, *Artificial Intelligence: A Modern Approach* [3th edition]\n",
    "\n",
    ".\n",
    "\n",
    ".\n"
   ]
  },
  {
   "cell_type": "markdown",
   "metadata": {},
   "source": [
    "# Problem Solving by Searching\n",
    "---"
   ]
  },
  {
   "cell_type": "markdown",
   "metadata": {},
   "source": [
    "## Why search?"
   ]
  },
  {
   "cell_type": "markdown",
   "metadata": {},
   "source": [
    "> Search techniques are utilized in problem-solving scenarios when there is a clear, predefined goal that needs to be achieved, and the problem can be logically broken down into different states and actions.\n",
    "\n",
    "Search algorithms are essential for tackling problems in various domains and are especially useful in cases when:\n",
    "- The problem's **complexity** is beyond straightforward mathematical modeling or doesn't have a known analytical solution.\n",
    "- We **lack prior knowledge** of the exact sequence of actions leading to a solution.\n",
    "- We intend to systematically explore a **large solution space**, requiring an examination of various paths to find the best one.\n",
    "- We seek **optimal or near-optimal solutions** in extensive search spaces.\n",
    "\n",
    "### Problem solving agent\n",
    "A problem-solving agent is a type of goal-based agent capable of determining a sequence of actions leading to a desired goal. This agent achieves this by exploring the problem's state space, which encompasses all potential states reachable from the initial state through a sequence of actions.\n",
    "\n",
    "The agent's program comprises two key components:\n",
    "- **Problem Formulation** This entails the process of deciding which actions and states to consider based on the specified goal. 🗺️..\n",
    "- **Search Algorithm** This involves determining the next action to take given the current state in order to progress toward the goal. 🧭..\n",
    "\n",
    "### Conditions for solving problems by searching\n",
    "While path search algorithms can be applied to a wide range of problems, there are some conditions and considerations that make them more suitable for certain types of problems.\n",
    "\n",
    "When the task environment is\n",
    "- discrete\n",
    "- fully observable\n",
    "- deterministic\n",
    "- static\n",
    "- completelly known\n",
    "\n",
    "> In this case, the agent can be said to have `full control` of the environment, therefore it can plan ahead and choose a sequence of actions that will lead to the desired goal. The process of finding a sequence of actions is called *search*."
   ]
  },
  {
   "cell_type": "markdown",
   "metadata": {},
   "source": [
    "## Problem solving agents\n",
    "1. Initial state\n",
    "2. Set of actions\n",
    "3. Transition model\n",
    "4. Goal test function\n",
    "5. Path cost function\n",
    "\n",
    "\n",
    "- state space\n",
    "- path -> solution\n",
    "- search tree vs search graph: \n",
    "  => treat states and actions as **atomic** entities\n",
    "\n",
    "## Search strategies\n",
    "Their performance is measured in terms of:\n",
    "- Completeness: is the algorithm guaranteed to find a solution when there is one?\n",
    "- Optimality: does the strategy find the best solution?\n",
    "- Time complexity: how long does it take to find a solution?\n",
    "- Space complexity: how much memory is needed to perform the search?\n",
    "Complexity depends on:\n",
    "- b: maximum branching factor of the search tree\n",
    "- d: depth of the least-cost solution\n",
    "\n",
    "### Uninformed search strategies\n",
    "- Breadth-first search\n",
    "- Uniform-cost search\n",
    "- Depth-first search\n",
    "- Depth-limited search\n",
    "- Iterative deepening search\n",
    "- Bidirectional search\n",
    "- Beam search\n",
    "\n",
    "### Informed search strategies\n",
    "- Greedy best-first search\n",
    "- A* search\n",
    "- Recursive best-first search (RBFS)\n",
    "- Simplified Memory-bounded A* search (SMA*)\n",
    "\n",
    "\n",
    "\n"
   ]
  }
 ],
 "metadata": {
  "language_info": {
   "name": "python"
  }
 },
 "nbformat": 4,
 "nbformat_minor": 2
}
