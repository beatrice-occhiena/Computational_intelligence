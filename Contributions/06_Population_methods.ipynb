{
 "cells": [
  {
   "cell_type": "markdown",
   "metadata": {},
   "source": [
    "**Author:** Beatrice Occhiena s314971. See [`LICENSE`](https://github.com/beatrice-occhiena/Computational_intelligence/blob/main/LICENSE) for details.\n",
    "- institutional email: `S314971@studenti.polito.it`\n",
    "- personal email: `beatrice.occhiena@live.it`\n",
    "- github repository: [https://github.com/beatrice-occhiena/Computational_intelligence.git](https://github.com/beatrice-occhiena/Computational_intelligence.git)\n",
    "\n",
    "**Resources:** These notes are the result of additional research and analysis of the lecture material presented by Professor Giovanni Squillero for the Computational Intelligence course during the academic year 2023-2024 @ Politecnico di Torino. They are intended to be my attempt to make a personal contribution and to rework the topics covered in the following resources.\n",
    "- [https://github.com/squillero/computational-intelligence](https://github.com/squillero/computational-intelligence)\n",
    "- Stuart Russel, Peter Norvig, *Artificial Intelligence: A Modern Approach* [3th edition]\n",
    "- Sean Luke, *Essentials of Metaheuristics*, 2016 [online version 2.3]\n",
    "- Nikolaus Hansen, Dirk V. Arnold, Anne Auger, *Evolution Strategies*, February 2015\n",
    "\n",
    ".\n",
    "\n",
    "."
   ]
  },
  {
   "cell_type": "markdown",
   "metadata": {},
   "source": [
    "LOOK AT 2nd BOOK FOR MORE DETAILS\n",
    "\n",
    "### Individual encoding\n",
    "We want **unique representation** of the individual in the population. Differential survival.\n",
    "\n",
    "Problem: **Infeasible solutions**. Different from bad solutions. We want to avoid them. We have some constraints\n",
    "\n",
    "Genetic -> beacuse they work on the level of genotype\n",
    "Genotype = \n",
    "Phenotype = \n",
    "We want to obtain a similar phenotype not similar genotype!!\n",
    "\n",
    "\n",
    "Darwin vs Lamarck"
   ]
  }
 ],
 "metadata": {
  "language_info": {
   "name": "python"
  }
 },
 "nbformat": 4,
 "nbformat_minor": 2
}
