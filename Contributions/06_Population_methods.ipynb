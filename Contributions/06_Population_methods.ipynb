{
 "cells": [
  {
   "cell_type": "markdown",
   "metadata": {},
   "source": [
    "**Author:** Beatrice Occhiena s314971. See [`LICENSE`](https://github.com/beatrice-occhiena/Computational_intelligence/blob/main/LICENSE) for details.\n",
    "- institutional email: `S314971@studenti.polito.it`\n",
    "- personal email: `beatrice.occhiena@live.it`\n",
    "- github repository: [https://github.com/beatrice-occhiena/Computational_intelligence.git](https://github.com/beatrice-occhiena/Computational_intelligence.git)\n",
    "\n",
    "**Resources:** These notes are the result of additional research and analysis of the lecture material presented by Professor Giovanni Squillero for the Computational Intelligence course during the academic year 2023-2024 @ Politecnico di Torino. They are intended to be my attempt to make a personal contribution and to rework the topics covered in the following resources.\n",
    "- [https://github.com/squillero/computational-intelligence](https://github.com/squillero/computational-intelligence)\n",
    "- Stuart Russel, Peter Norvig, *Artificial Intelligence: A Modern Approach* [3th edition]\n",
    "- Sean Luke, *Essentials of Metaheuristics*, 2016 [online version 2.3]\n",
    "- Nikolaus Hansen, Dirk V. Arnold, Anne Auger, *Evolution Strategies*, February 2015\n",
    "\n",
    ".\n",
    "\n",
    "."
   ]
  },
  {
   "cell_type": "markdown",
   "metadata": {},
   "source": [
    "# Population methods"
   ]
  },
  {
   "cell_type": "markdown",
   "metadata": {},
   "source": [
    "## Basic concepts\n",
    "\n",
    "##### Representation\n",
    "- **Individual**: a single candidate solution to the problem\n",
    "- **Population**: a set of individuals\n",
    "- **Generation**: the population at a given iteration of the algorithm\n",
    "\n",
    "- **Genotype**: the structured/coded representation of an individual which can be manipulated by the algorithm during breeding (e.g. a string of bits, a vector of real numbers, a tree, ...) - ⚠️ it is not directly interpretable as the final solution and may not resemble the problem domain\n",
    "  - **Gene**: a single element of the genotype\n",
    "- **Phenotype**: the actual decoded solution to the problem used to evaluate the fitness of the individual - ⚠️ it is not directly manipulable by the algorithm\n",
    "\n",
    "##### Evolution\n",
    "- **Breeding**: the process of creating new individuals from existing ones\n",
    "  - **Mutation**: a random change in the individual due to plain tweaking - `asexual breeding`\n",
    "  - **Crossover**: a combination of two individuals' genes to create one or more new individuals - `sexual breeding`\n",
    "\n",
    "##### Selection\n",
    "- **Fitness**: a measure of how good an individual is\n",
    "  - **Fitness landscape**: a graphical representation of the fitness of all possible individuals\n",
    "  - **Evaluation**: the process of assigning a fitness value to an individual - NB: it can be computationally expensive especially if requires to launch a simulation\n",
    "\n",
    "- **Selection**: the process of choosing which individuals will be parents for the next generation\n",
    "  - **Selection pressure**: the degree to which better individuals are more likely to be selected\n",
    "    - **Elitism**: the best individuals are always selected\n",
    "    - **Tournament**: a random subset of individuals is selected and the best one is chosen\n",
    "    - **Roulette**: each individual is selected with a probability proportional to its fitness"
   ]
  },
  {
   "cell_type": "markdown",
   "metadata": {},
   "source": [
    "Evolutionary Algorithms (EAs) are population-based methods, i.e. they work on a set of individuals (population) rather than on a single solution. The population is a set of individuals, each of which represents a possible solution to the problem. The population is initialized randomly and evolves over time. The population is updated at each iteration (generation) of the algorithm. The population is the main data structure of the algorithm.\n",
    "- generational algorithms -> new population is created at each generation\n",
    "- steady-state algorithms -> new individuals are created few at a time, replacing the worst individuals in the population\n",
    "\n",
    "1. Genetic Algorithms (GAs): \n",
    "2. Evolution Strategies (ESs)"
   ]
  },
  {
   "cell_type": "markdown",
   "metadata": {},
   "source": [
    "LOOK AT 2nd BOOK FOR MORE DETAILS\n",
    "\n",
    "### Individual encoding\n",
    "We want **unique representation** of the individual in the population. Differential survival.\n",
    "\n",
    "Problem: **Infeasible solutions**. Different from bad solutions. We want to avoid them. We have some constraints\n",
    "\n",
    "Genetic -> beacuse they work on the level of genotype\n",
    "Genotype = \n",
    "Phenotype = \n",
    "We want to obtain a similar phenotype not similar genotype!!\n",
    "\n",
    "\n",
    "Darwin vs Lamarck"
   ]
  },
  {
   "cell_type": "markdown",
   "metadata": {},
   "source": [
    "- strong vs weak causality\n",
    "- self adaptation\n",
    "- dynamic strategy\n",
    "\n",
    "Punctuated Equilibrium: This theory suggests that evolutionary change often occurs in rapid bursts, separated by long periods of stability. Gould's book delves into the evidence and implications of this theory.\n",
    "\n",
    "Hierarchy of Selection: Gould introduces the concept of a hierarchy of selection, suggesting that natural selection operates at multiple levels, from genes to individuals to populations. This view challenges the traditional gene-centered view of evolution and offers a more nuanced perspective."
   ]
  },
  {
   "cell_type": "markdown",
   "metadata": {},
   "source": [
    "### Individual encoding\n",
    "\n",
    "\n",
    "### Population initialization\n",
    "Most algorithms start with a **random** population. However, if we have some prior knowledge about potentially good solution, we can **bias** the initialization towards those areas of the search space, or even **seed** the population with designed individuals.\n",
    "- ⚠️ We may not accurately know where the good solutions are, so it's advisable  not to rely solely on biasing.\n",
    "\n",
    "> **Diversity** is the key to a good initialization. We want each individual to be unique, and to efficiently check for duplicates, we can use a `hash table`.\n",
    "\n",
    "The major obs\n",
    "\n"
   ]
  },
  {
   "cell_type": "markdown",
   "metadata": {},
   "source": [
    "## Evolution Strategies (ES)\n",
    "Evolution strategies are commonly applied to **black-box optimization problems in continuous search spaces**, i.e. computationally expensive problems where we make no assumptions on the fitness function since it is not known and can only be evaluated by launching a simulation.\n",
    "\n",
    "- Each individual is represented by a `vector of real numbers`: $\\vec{x} = (x_1, x_2, ..., x_n)$\n",
    "\n",
    "### $(\\mu/\\rho \\overset{+}{,} \\lambda)$ notation\n",
    "- $\\mu$: number of parents, i.e. the size of the population\n",
    "- $\\rho$: number of parents selected for recombination\n",
    "- $\\lambda$: number of offspring generated at each generation\n",
    "\n",
    "- **Plus strategy**: the offspring are added to the population for the selection process,\n",
    "therefore age is not taken into account. The selection pressure is higher (elitism) $\\implies$ the parents are the $\\mu$ all-time best individuals\n",
    "  - Promotes `exploitation`\n",
    "- **Comma strategy**: the offspring replace the parents in the population, therefore individuals die out after one iteration. The selection pressure is lower $\\implies$ the parents are the $\\rho$ best individuals of the current generation\n",
    "  - Promotes `exploration`\n"
   ]
  },
  {
   "cell_type": "markdown",
   "metadata": {},
   "source": [
    "### Gaussian mutation\n"
   ]
  },
  {
   "cell_type": "code",
   "execution_count": null,
   "metadata": {},
   "outputs": [],
   "source": [
    "def evolution_strategy(problem, mu, lambda, ro, type, max_iterations=1000):\n",
    "  \"\"\"\n",
    "  Evolution strategy algorithm.\n",
    "  - mu: number of parents\n",
    "  - lambda: number of offspring\n",
    "\n",
    "\n",
    "  \"\"\"\n",
    "  population = problem.initialize_population(mu)\n",
    "  population_fitness = problem.evaluation(population)\n",
    "\n",
    "  # save the best individual\n",
    "  best_index = np.argmin(population_fitness)\n",
    "  best_individual = population[best_index]\n",
    "  best_fitness = population_fitness[best_index]\n",
    "\n",
    "  # \n",
    "  for _ in range(max_iterations):\n",
    "    # generate offspring\n",
    "    offspring = problem.generate_offspring(population, lambda, ro)\n",
    "\n",
    "    # evaluate offspring\n",
    "    offspring_fitness = problem.evaluation(offspring)\n",
    "\n",
    "    # select mu best individuals\n",
    "    population, population_fitness = problem.selection(population, population_fitness, offspring, offspring_fitness, mu)\n",
    "\n",
    "    # save the best individual\n",
    "    best_index = np.argmin(population_fitness)\n",
    "    if population_fitness[best_index] < best_fitness:\n",
    "      best_individual = population[best_index]\n",
    "      best_fitness = population_fitness[best_index]\n",
    "\n",
    "\n"
   ]
  },
  {
   "cell_type": "code",
   "execution_count": 1,
   "metadata": {},
   "outputs": [],
   "source": [
    "def one_point_xover(parent1, parent2):\n",
    "    \"\"\"One-point crossover.\"\"\"\n",
    "    # Select crossover point\n",
    "    crossover_point = random.randint(0, len(parent1))\n",
    "    # Create children. np.hstack joins two arrays\n",
    "    child1 = np.hstack((parent1[0:crossover_point], parent2[crossover_point:]))\n",
    "    child2 = np.hstack((parent2[0:crossover_point], parent1[crossover_point:]))\n",
    "    return child1, child2\n",
    "\n",
    "def two_point_xover(parent1, parent2):\n",
    "    \"\"\"Two-point crossover.\"\"\"\n",
    "    # Select crossover points\n",
    "    crossover_point1 = random.randint(0, len(parent1))\n",
    "    crossover_point2 = random.randint(0, len(parent1))\n",
    "    if crossover_point1 > crossover_point2:\n",
    "        crossover_point1, crossover_point2 = crossover_point2, crossover_point1\n",
    "    if crossover_point1 == crossover_point2:\n",
    "        crossover_point2 += 1\n",
    "    # Create children\n",
    "    child1 = np.hstack((parent1[0:crossover_point1], parent2[crossover_point1:crossover_point2], parent1[crossover_point2:]))\n",
    "    child2 = np.hstack((parent2[0:crossover_point1], parent1[crossover_point1:crossover_point2], parent2[crossover_point2:]))\n",
    "    return child1, child2\n",
    "\n",
    "def uniform_xover(parent1, parent2, p=0.5):\n",
    "    \"\"\"\n",
    "      Uniform crossover.\n",
    "      - p: probability of swapping a gene\n",
    "    \"\"\"\n",
    "    # Create children\n",
    "    child1 = np.empty_like(parent1)\n",
    "    child2 = np.empty_like(parent1)\n",
    "    for i in range(len(parent1)):\n",
    "        if random.random() > p:\n",
    "            child1[i] = parent1[i]\n",
    "            child2[i] = parent2[i]\n",
    "        else:\n",
    "            child1[i] = parent2[i]\n",
    "            child2[i] = parent1[i]\n",
    "    return child1, child2\n",
    "\n",
    "def average_xover(parent1, parent2):\n",
    "    \"\"\"\n",
    "      Average crossover.\n",
    "      - Only suitable for real-valued representations (!)\n",
    "    \"\"\"\n",
    "    # Create children\n",
    "    child1 = (parent1 + parent2) / 2\n",
    "    child2 = (parent1 + parent2) / 2\n",
    "    return child1, child2"
   ]
  },
  {
   "cell_type": "code",
   "execution_count": null,
   "metadata": {},
   "outputs": [],
   "source": [
    "def gaussian_mutation(individual, p=0.1, mu=0, sigma=1):\n",
    "    \"\"\"\n",
    "      Gaussian mutation.\n",
    "      - p: probability of mutating a gene\n",
    "      - mu: mean of the Gaussian distribution\n",
    "      - sigma: standard deviation of the Gaussian distribution - the mutation strength\n",
    "    \"\"\"\n",
    "    # Create child\n",
    "    child = np.empty_like(individual)\n",
    "    for i in range(len(individual)):\n",
    "        if random.random() > p:\n",
    "            child[i] = individual[i]\n",
    "        else:\n",
    "            child[i] = individual[i] + random.gauss(mu, sigma)\n",
    "    return child"
   ]
  }
 ],
 "metadata": {
  "kernelspec": {
   "display_name": "Python 3",
   "language": "python",
   "name": "python3"
  },
  "language_info": {
   "codemirror_mode": {
    "name": "ipython",
    "version": 3
   },
   "file_extension": ".py",
   "mimetype": "text/x-python",
   "name": "python",
   "nbconvert_exporter": "python",
   "pygments_lexer": "ipython3",
   "version": "3.11.7"
  }
 },
 "nbformat": 4,
 "nbformat_minor": 2
}
