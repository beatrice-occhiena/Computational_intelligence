{
 "cells": [
  {
   "cell_type": "markdown",
   "metadata": {},
   "source": [
    "**Author:** Beatrice Occhiena s314971. See [`LICENSE`](https://github.com/beatrice-occhiena/Computational_intelligence/blob/main/LICENSE) for details.\n",
    "- institutional email: `S314971@studenti.polito.it`\n",
    "- personal email: `beatrice.occhiena@live.it`\n",
    "- github repository: [https://github.com/beatrice-occhiena/Computational_intelligence.git](https://github.com/beatrice-occhiena/Computational_intelligence.git)\n",
    "\n",
    "**Resources:** These notes are the result of additional research and analysis of the lecture material presented by Professor Giovanni Squillero for the Computational Intelligence course during the academic year 2023-2024 @ Politecnico di Torino. They are intended to be my attempt to make a personal contribution and to rework the topics covered in the following resources.\n",
    "- [https://github.com/squillero/computational-intelligence](https://github.com/squillero/computational-intelligence)\n",
    "- Stuart Russel, Peter Norvig, *Artificial Intelligence: A Modern Approach* [3th edition]\n",
    "- Sean Luke, *Essentials of Metaheuristics*, 2016 [online version 2.3]\n",
    "- Nikolaus Hansen, Dirk V. Arnold, Anne Auger, *Evolution Strategies*, February 2015\n",
    "\n",
    ".\n",
    "\n",
    "."
   ]
  },
  {
   "cell_type": "markdown",
   "metadata": {},
   "source": [
    "# Population methods"
   ]
  },
  {
   "cell_type": "markdown",
   "metadata": {},
   "source": [
    "## Basic concepts\n",
    "- **Individual**: a single candidate solution to the problem\n",
    "- **Population**: a set of individuals\n",
    "\n",
    "- **Breeding**: the process of creating new individuals from existing ones\n",
    "  - **Mutation**: a random change in the individual due to plain tweaking - `asexual breeding`\n",
    "  - **Crossover**: a combination of two individuals' genes to create one or more new individuals - `sexual breeding`\n",
    "\n",
    "- **Fitness**: a measure of how good an individual is\n",
    "  - **Fitness landscape**: \n",
    "  - **Evaluation**: the process of assigning a fitness value to an individual - NB: it can be computationally expensive especially if requires to launch a simulation\n",
    "\n",
    "- **Selection**: the process of choosing which individuals will be parents for the next generation\n",
    "  - **Elitism**: the best individuals are always selected\n",
    "  - **Tournament**: a random subset of individuals is selected and the best one is chosen\n",
    "  - **Roulette**: each individual is selected with a probability proportional to its fitness"
   ]
  },
  {
   "cell_type": "markdown",
   "metadata": {},
   "source": [
    "Evolutionary Algorithms (EAs) are population-based methods, i.e. they work on a set of individuals (population) rather than on a single solution. The population is a set of individuals, each of which represents a possible solution to the problem. The population is initialized randomly and evolves over time. The population is updated at each iteration (generation) of the algorithm. The population is the main data structure of the algorithm.\n",
    "- generational algorithms -> new population is created at each generation\n",
    "- steady-state algorithms -> new individuals are created few at a time, replacing the worst individuals in the population\n",
    "\n",
    "1. Genetic Algorithms (GAs): \n",
    "2. Evolution Strategies (ESs)"
   ]
  },
  {
   "cell_type": "markdown",
   "metadata": {},
   "source": [
    "LOOK AT 2nd BOOK FOR MORE DETAILS\n",
    "\n",
    "### Individual encoding\n",
    "We want **unique representation** of the individual in the population. Differential survival.\n",
    "\n",
    "Problem: **Infeasible solutions**. Different from bad solutions. We want to avoid them. We have some constraints\n",
    "\n",
    "Genetic -> beacuse they work on the level of genotype\n",
    "Genotype = \n",
    "Phenotype = \n",
    "We want to obtain a similar phenotype not similar genotype!!\n",
    "\n",
    "\n",
    "Darwin vs Lamarck"
   ]
  },
  {
   "cell_type": "markdown",
   "metadata": {},
   "source": []
  },
  {
   "cell_type": "markdown",
   "metadata": {},
   "source": [
    "- strong vs weak causality\n",
    "- self adaptation\n",
    "- dynamic strategy\n",
    "\n",
    "Punctuated Equilibrium: This theory suggests that evolutionary change often occurs in rapid bursts, separated by long periods of stability. Gould's book delves into the evidence and implications of this theory.\n",
    "\n",
    "Hierarchy of Selection: Gould introduces the concept of a hierarchy of selection, suggesting that natural selection operates at multiple levels, from genes to individuals to populations. This view challenges the traditional gene-centered view of evolution and offers a more nuanced perspective."
   ]
  }
 ],
 "metadata": {
  "language_info": {
   "name": "python"
  }
 },
 "nbformat": 4,
 "nbformat_minor": 2
}
