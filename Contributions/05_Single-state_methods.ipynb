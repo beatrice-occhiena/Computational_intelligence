{
 "cells": [
  {
   "cell_type": "markdown",
   "metadata": {},
   "source": []
  },
  {
   "cell_type": "markdown",
   "metadata": {},
   "source": [
    "# Evolution Strategies"
   ]
  },
  {
   "cell_type": "markdown",
   "metadata": {},
   "source": [
    "Evolutions strategies are a family of algorithms that are based on the idea of evolution. They are a subset of evolutionary algorithms, and they are used to solve optimization problems. They are based on the idea of evolution, and they are inspired by the natural evolution of species.\n",
    "\n"
   ]
  },
  {
   "cell_type": "markdown",
   "metadata": {},
   "source": [
    "### Recombination\n",
    "\n",
    "\n",
    "- **Uniform crossover**: each gene is chosen from one of the two parents with equal probability.\n",
    "- **Average crossover**: the gene is chosen as the average of the two parents."
   ]
  },
  {
   "cell_type": "markdown",
   "metadata": {},
   "source": [
    "- individual encoding (find smth that works for the problem)\n",
    "\n",
    "- parent selection -> random based\n",
    "- survival selection -> elitism based on fitness\n",
    "We need some romedoness\n",
    "\n",
    "- genetic operators -> mutation operator and recombination operator (find smth that works for the problem)\n",
    "\n",
    "- convergence\n",
    "\n",
    "- termination"
   ]
  },
  {
   "cell_type": "markdown",
   "metadata": {},
   "source": []
  },
  {
   "cell_type": "markdown",
   "metadata": {},
   "source": []
  },
  {
   "cell_type": "markdown",
   "metadata": {},
   "source": [
    "# Genetic Algorithms"
   ]
  },
  {
   "cell_type": "markdown",
   "metadata": {},
   "source": []
  }
 ],
 "metadata": {
  "language_info": {
   "name": "python"
  }
 },
 "nbformat": 4,
 "nbformat_minor": 2
}
