{
 "cells": [
  {
   "cell_type": "code",
   "execution_count": 1,
   "metadata": {},
   "outputs": [],
   "source": [
    "from game import Move, Player, Game, Quixo, SymmetryGenerator\n",
    "from main import RandomPlayer, MyPlayer\n",
    "import numpy as np"
   ]
  },
  {
   "cell_type": "code",
   "execution_count": 8,
   "metadata": {},
   "outputs": [
    {
     "name": "stdout",
     "output_type": "stream",
     "text": [
      "All Symmetries:\n",
      "Transformation: identity\n",
      "[[-1 -1 -1 -1 -1]\n",
      " [-1  1 -1 -1 -1]\n",
      " [-1 -1 -1 -1 -1]\n",
      " [-1 -1 -1 -1 -1]\n",
      " [-1  0 -1 -1 -1]]\n",
      "Transformation: rotate_90\n",
      "[[-1 -1 -1 -1 -1]\n",
      " [-1 -1 -1 -1 -1]\n",
      " [-1 -1 -1 -1 -1]\n",
      " [-1  1 -1 -1  0]\n",
      " [-1 -1 -1 -1 -1]]\n",
      "Transformation: rotate_180\n",
      "[[-1 -1 -1  0 -1]\n",
      " [-1 -1 -1 -1 -1]\n",
      " [-1 -1 -1 -1 -1]\n",
      " [-1 -1 -1  1 -1]\n",
      " [-1 -1 -1 -1 -1]]\n",
      "Transformation: rotate_270\n",
      "[[-1 -1 -1 -1 -1]\n",
      " [ 0 -1 -1  1 -1]\n",
      " [-1 -1 -1 -1 -1]\n",
      " [-1 -1 -1 -1 -1]\n",
      " [-1 -1 -1 -1 -1]]\n",
      "Transformation: reflect_horizontal\n",
      "[[-1 -1 -1 -1 -1]\n",
      " [-1 -1 -1  1 -1]\n",
      " [-1 -1 -1 -1 -1]\n",
      " [-1 -1 -1 -1 -1]\n",
      " [-1 -1 -1  0 -1]]\n",
      "Transformation: reflect_vertical\n",
      "[[-1  0 -1 -1 -1]\n",
      " [-1 -1 -1 -1 -1]\n",
      " [-1 -1 -1 -1 -1]\n",
      " [-1  1 -1 -1 -1]\n",
      " [-1 -1 -1 -1 -1]]\n",
      "Transformation: reflect_diagonal\n",
      "[[-1 -1 -1 -1 -1]\n",
      " [-1  1 -1 -1  0]\n",
      " [-1 -1 -1 -1 -1]\n",
      " [-1 -1 -1 -1 -1]\n",
      " [-1 -1 -1 -1 -1]]\n",
      "Transformation: reflect_antidiagonal\n",
      "[[-1 -1 -1 -1 -1]\n",
      " [ 0 -1 -1  1 -1]\n",
      " [-1 -1 -1 -1 -1]\n",
      " [-1 -1 -1 -1 -1]\n",
      " [-1 -1 -1 -1 -1]]\n",
      "Lexicographically Minimum State (Base State):\n",
      "\n",
      "[[-1  0 -1 -1 -1]\n",
      " [-1 -1 -1 -1 -1]\n",
      " [-1 -1 -1 -1 -1]\n",
      " [-1  1 -1 -1 -1]\n",
      " [-1 -1 -1 -1 -1]]\n",
      "Transformation Applied: reflect_vertical\n"
     ]
    }
   ],
   "source": [
    "# Example usage:\n",
    "board = np.ones((5, 5), dtype=np.uint8) * -1\n",
    "board[4, 1] = 0\n",
    "board[1, 1] = 1\n",
    "symmetry_generator = SymmetryGenerator()\n",
    "all_symmetries = symmetry_generator.get_symmetries(board)\n",
    "\n",
    "# Print all symmetries as full boards\n",
    "print(\"All Symmetries:\")\n",
    "for label, state in all_symmetries:\n",
    "    print(f\"Transformation: {label}\")\n",
    "    print(state)\n",
    "\n",
    "# Find the lexicographically minimum state and its transformation label\n",
    "    #all_symmetries: It is a list of tuples where each tuple contains a \n",
    "    # 1. transformation label (string)\n",
    "    # 2. a symmetry (NumPy array representing a board state).\n",
    "min_label, min_state = min(all_symmetries, key=lambda x: x[1].tobytes()) # tobytes() can be get_hashable_state() in game.py\n",
    "print(f\"Lexicographically Minimum State (Base State):\\n\\n{min_state}\")\n",
    "print(f\"Transformation Applied: {min_label}\")"
   ]
  },
  {
   "cell_type": "code",
   "execution_count": 5,
   "metadata": {},
   "outputs": [
    {
     "name": "stdout",
     "output_type": "stream",
     "text": [
      "⬜ ⬜ ⬜ ⬜ ⬜ \n",
      "⬜ ⬜ ⬜ ⬜ ⬜ \n",
      "⬜ ⬜ ⬜ ⬜ ⬜ \n",
      "⬜ ⬜ ⬜ ⬜ ⬜ \n",
      "⬜ ⬜ ⬜ ⬜ ⬜ \n",
      "\n",
      "🔘 🔘 ⬜ ❌ 🔘 \n",
      "❌ 🔘 ⬜ 🔘 ❌ \n",
      "❌ ❌ 🔘 ⬜ ❌ \n",
      "🔘 🔘 ⬜ ❌ 🔘 \n",
      "🔘 ❌ ❌ 🔘 🔘 \n",
      "\n",
      "Winner: Player 1\n"
     ]
    }
   ],
   "source": [
    "g = Quixo()\n",
    "g.print()\n",
    "player1 = MyPlayer()\n",
    "player2 = RandomPlayer()\n",
    "winner = g.play(player1, player2)\n",
    "g.print()\n",
    "print(f\"Winner: Player {winner}\")"
   ]
  }
 ],
 "metadata": {
  "kernelspec": {
   "display_name": "Python 3",
   "language": "python",
   "name": "python3"
  },
  "language_info": {
   "codemirror_mode": {
    "name": "ipython",
    "version": 3
   },
   "file_extension": ".py",
   "mimetype": "text/x-python",
   "name": "python",
   "nbconvert_exporter": "python",
   "pygments_lexer": "ipython3",
   "version": "3.11.7"
  }
 },
 "nbformat": 4,
 "nbformat_minor": 2
}
