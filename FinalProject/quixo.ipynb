{
 "cells": [
  {
   "cell_type": "code",
   "execution_count": 13,
   "metadata": {},
   "outputs": [
    {
     "ename": "ImportError",
     "evalue": "cannot import name 'MyGame' from 'game' (c:\\Users\\bea-c\\OneDrive\\Desktop\\CI\\Personal_repo_CI\\Computational_intelligence\\FinalProject\\game.py)",
     "output_type": "error",
     "traceback": [
      "\u001b[1;31m---------------------------------------------------------------------------\u001b[0m",
      "\u001b[1;31mImportError\u001b[0m                               Traceback (most recent call last)",
      "Cell \u001b[1;32mIn[13], line 1\u001b[0m\n\u001b[1;32m----> 1\u001b[0m \u001b[38;5;28;01mfrom\u001b[39;00m \u001b[38;5;21;01mgame\u001b[39;00m \u001b[38;5;28;01mimport\u001b[39;00m Move, Player, Game, MyGame\n\u001b[0;32m      2\u001b[0m \u001b[38;5;28;01mfrom\u001b[39;00m \u001b[38;5;21;01mmain\u001b[39;00m \u001b[38;5;28;01mimport\u001b[39;00m RandomPlayer, MyPlayer\n",
      "\u001b[1;31mImportError\u001b[0m: cannot import name 'MyGame' from 'game' (c:\\Users\\bea-c\\OneDrive\\Desktop\\CI\\Personal_repo_CI\\Computational_intelligence\\FinalProject\\game.py)"
     ]
    }
   ],
   "source": [
    "from game import Move, Player, Game, MyGame\n",
    "from main import RandomPlayer, MyPlayer"
   ]
  },
  {
   "cell_type": "code",
   "execution_count": 3,
   "metadata": {},
   "outputs": [
    {
     "ename": "NameError",
     "evalue": "name 'MyGame' is not defined",
     "output_type": "error",
     "traceback": [
      "\u001b[1;31m---------------------------------------------------------------------------\u001b[0m",
      "\u001b[1;31mNameError\u001b[0m                                 Traceback (most recent call last)",
      "Cell \u001b[1;32mIn[3], line 1\u001b[0m\n\u001b[1;32m----> 1\u001b[0m g \u001b[38;5;241m=\u001b[39m \u001b[43mMyGame\u001b[49m()\n\u001b[0;32m      2\u001b[0m g\u001b[38;5;241m.\u001b[39mprint()\n\u001b[0;32m      3\u001b[0m player1 \u001b[38;5;241m=\u001b[39m MyPlayer()\n",
      "\u001b[1;31mNameError\u001b[0m: name 'MyGame' is not defined"
     ]
    }
   ],
   "source": [
    "g = MyGame()\n",
    "g.print()\n",
    "player1 = MyPlayer()\n",
    "player2 = RandomPlayer()\n",
    "winner = g.play(player1, player2)\n",
    "g.print()\n",
    "print(f\"Winner: Player {winner}\")"
   ]
  }
 ],
 "metadata": {
  "kernelspec": {
   "display_name": "Python 3",
   "language": "python",
   "name": "python3"
  },
  "language_info": {
   "codemirror_mode": {
    "name": "ipython",
    "version": 3
   },
   "file_extension": ".py",
   "mimetype": "text/x-python",
   "name": "python",
   "nbconvert_exporter": "python",
   "pygments_lexer": "ipython3",
   "version": "3.11.7"
  }
 },
 "nbformat": 4,
 "nbformat_minor": 2
}
